{
  "cells": [
    {
      "cell_type": "code",
      "execution_count": 1,
      "metadata": {
        "colab": {
          "base_uri": "https://localhost:8080/"
        },
        "id": "WclRJd0vSY_s",
        "outputId": "1370aedd-7e1f-4a72-9772-e73119599d12"
      },
      "outputs": [
        {
          "name": "stderr",
          "output_type": "stream",
          "text": [
            "2025-07-08 19:23:41.250912: E external/local_xla/xla/stream_executor/cuda/cuda_fft.cc:467] Unable to register cuFFT factory: Attempting to register factory for plugin cuFFT when one has already been registered\n",
            "WARNING: All log messages before absl::InitializeLog() is called are written to STDERR\n",
            "E0000 00:00:1751991821.273797   81191 cuda_dnn.cc:8579] Unable to register cuDNN factory: Attempting to register factory for plugin cuDNN when one has already been registered\n",
            "E0000 00:00:1751991821.280583   81191 cuda_blas.cc:1407] Unable to register cuBLAS factory: Attempting to register factory for plugin cuBLAS when one has already been registered\n",
            "W0000 00:00:1751991821.298435   81191 computation_placer.cc:177] computation placer already registered. Please check linkage and avoid linking the same target more than once.\n",
            "W0000 00:00:1751991821.298477   81191 computation_placer.cc:177] computation placer already registered. Please check linkage and avoid linking the same target more than once.\n",
            "W0000 00:00:1751991821.298483   81191 computation_placer.cc:177] computation placer already registered. Please check linkage and avoid linking the same target more than once.\n",
            "W0000 00:00:1751991821.298486   81191 computation_placer.cc:177] computation placer already registered. Please check linkage and avoid linking the same target more than once.\n",
            "2025-07-08 19:23:41.304597: I tensorflow/core/platform/cpu_feature_guard.cc:210] This TensorFlow binary is optimized to use available CPU instructions in performance-critical operations.\n",
            "To enable the following instructions: AVX2 FMA, in other operations, rebuild TensorFlow with the appropriate compiler flags.\n"
          ]
        }
      ],
      "source": [
        "import tensorflow as tf\n",
        "from tensorflow.keras.preprocessing.image import ImageDataGenerator\n",
        "from sklearn.metrics import classification_report, f1_score, confusion_matrix, recall_score, precision_score\n",
        "import matplotlib.pyplot as plt\n",
        "import seaborn as sns\n",
        "import numpy as np\n",
        "import pandas as pd\n",
        "import os\n",
        "import matplotlib.pyplot as plt\n",
        "import seaborn as sns\n",
        "import warnings\n",
        "warnings.filterwarnings(\"ignore\")\n",
        "import tensorflow as tf\n",
        "from sklearn.model_selection import train_test_split\n",
        "from sklearn.preprocessing import LabelEncoder\n",
        "from sklearn.utils import shuffle\n",
        "from sklearn.metrics import classification_report , confusion_matrix\n",
        "import cv2\n",
        "from PIL import Image\n",
        "from keras.models import Sequential\n",
        "from keras.layers import Dense , Flatten , Dropout , Conv2D , MaxPooling2D\n",
        "from keras.utils import to_categorical\n",
        "from keras.optimizers import Adam\n",
        "from tensorflow.keras.preprocessing.image import ImageDataGenerator\n",
        "from keras.callbacks import EarlyStopping\n",
        "# from google.colab import drive\n",
        "\n",
        "# drive.mount('/content/drive/', force_remount=True)\n",
        "# https://www.kaggle.com/datasets/asdasdasasdas/garbage-classification"
      ]
    },
    {
      "cell_type": "code",
      "execution_count": 7,
      "metadata": {
        "id": "Zvt2pNfYXx6_"
      },
      "outputs": [],
      "source": [
        "os.environ['TF_CPP_MIN_LOG_LEVEL'] = '3'  # Disable verbose logging\n",
        "tf.config.threading.set_intra_op_parallelism_threads(1)\n",
        "tf.config.threading.set_inter_op_parallelism_threads(1)"
      ]
    },
    {
      "cell_type": "code",
      "execution_count": 2,
      "metadata": {
        "colab": {
          "base_uri": "https://localhost:8080/"
        },
        "id": "pSCs-OTjSPHE",
        "outputId": "3f5e966c-68d7-4866-a9bb-5a9119d877d0"
      },
      "outputs": [
        {
          "name": "stdout",
          "output_type": "stream",
          "text": [
            "Found 2024 images belonging to 6 classes.\n",
            "Found 503 images belonging to 6 classes.\n"
          ]
        }
      ],
      "source": [
        "IMG_SIZE = (224, 224)\n",
        "BATCH_SIZE = 32\n",
        "\n",
        "train_datagen = ImageDataGenerator(\n",
        "    rescale=1./255,\n",
        "    validation_split=0.2,\n",
        "    shear_range=0.2,\n",
        "    zoom_range=0.2,\n",
        "    horizontal_flip=True\n",
        ")\n",
        "\n",
        "train_gen = train_datagen.flow_from_directory(\n",
        "    '/home/jeremy/Downloads/archive (8)/garbage classification/Garbage classification',\n",
        "    target_size=IMG_SIZE,\n",
        "    batch_size=BATCH_SIZE,\n",
        "    class_mode='categorical',\n",
        "    subset='training'\n",
        ")\n",
        "\n",
        "val_gen = train_datagen.flow_from_directory(\n",
        "    '/home/jeremy/Downloads/archive (8)/garbage classification/Garbage classification',\n",
        "    target_size=IMG_SIZE,\n",
        "    batch_size=BATCH_SIZE,\n",
        "    class_mode='categorical',\n",
        "    subset='validation'\n",
        ")"
      ]
    },
    {
      "cell_type": "code",
      "execution_count": 14,
      "metadata": {
        "colab": {
          "base_uri": "https://localhost:8080/"
        },
        "id": "r4Stf--JXSTx",
        "outputId": "847ae824-ffbe-42c9-9935-a48384c226cb"
      },
      "outputs": [
        {
          "name": "stdout",
          "output_type": "stream",
          "text": [
            "Downloading data from https://storage.googleapis.com/tensorflow/keras-applications/mobilenet_v2/mobilenet_v2_weights_tf_dim_ordering_tf_kernels_1.0_224_no_top.h5\n",
            "\u001b[1m9406464/9406464\u001b[0m \u001b[32m━━━━━━━━━━━━━━━━━━━━\u001b[0m\u001b[37m\u001b[0m \u001b[1m0s\u001b[0m 0us/step\n",
            "Epoch 1/10\n",
            "\u001b[1m64/64\u001b[0m \u001b[32m━━━━━━━━━━━━━━━━━━━━\u001b[0m\u001b[37m\u001b[0m \u001b[1m565s\u001b[0m 9s/step - accuracy: 0.4785 - loss: 1.3378 - val_accuracy: 0.6581 - val_loss: 0.9015\n",
            "Epoch 2/10\n",
            "\u001b[1m64/64\u001b[0m \u001b[32m━━━━━━━━━━━━━━━━━━━━\u001b[0m\u001b[37m\u001b[0m \u001b[1m99s\u001b[0m 2s/step - accuracy: 0.7690 - loss: 0.6547 - val_accuracy: 0.7097 - val_loss: 0.7582\n",
            "Epoch 3/10\n",
            "\u001b[1m64/64\u001b[0m \u001b[32m━━━━━━━━━━━━━━━━━━━━\u001b[0m\u001b[37m\u001b[0m \u001b[1m97s\u001b[0m 2s/step - accuracy: 0.8032 - loss: 0.5494 - val_accuracy: 0.6998 - val_loss: 0.7551\n",
            "Epoch 4/10\n",
            "\u001b[1m64/64\u001b[0m \u001b[32m━━━━━━━━━━━━━━━━━━━━\u001b[0m\u001b[37m\u001b[0m \u001b[1m112s\u001b[0m 2s/step - accuracy: 0.8438 - loss: 0.4392 - val_accuracy: 0.7217 - val_loss: 0.7204\n",
            "Epoch 5/10\n",
            "\u001b[1m64/64\u001b[0m \u001b[32m━━━━━━━━━━━━━━━━━━━━\u001b[0m\u001b[37m\u001b[0m \u001b[1m103s\u001b[0m 2s/step - accuracy: 0.8598 - loss: 0.4323 - val_accuracy: 0.7356 - val_loss: 0.6817\n",
            "Epoch 6/10\n",
            "\u001b[1m64/64\u001b[0m \u001b[32m━━━━━━━━━━━━━━━━━━━━\u001b[0m\u001b[37m\u001b[0m \u001b[1m103s\u001b[0m 2s/step - accuracy: 0.8687 - loss: 0.3651 - val_accuracy: 0.7455 - val_loss: 0.6496\n",
            "Epoch 7/10\n",
            "\u001b[1m64/64\u001b[0m \u001b[32m━━━━━━━━━━━━━━━━━━━━\u001b[0m\u001b[37m\u001b[0m \u001b[1m104s\u001b[0m 2s/step - accuracy: 0.8930 - loss: 0.3227 - val_accuracy: 0.7336 - val_loss: 0.6878\n",
            "Epoch 8/10\n",
            "\u001b[1m64/64\u001b[0m \u001b[32m━━━━━━━━━━━━━━━━━━━━\u001b[0m\u001b[37m\u001b[0m \u001b[1m105s\u001b[0m 2s/step - accuracy: 0.8995 - loss: 0.3069 - val_accuracy: 0.7495 - val_loss: 0.6756\n",
            "Epoch 9/10\n",
            "\u001b[1m64/64\u001b[0m \u001b[32m━━━━━━━━━━━━━━━━━━━━\u001b[0m\u001b[37m\u001b[0m \u001b[1m102s\u001b[0m 2s/step - accuracy: 0.9105 - loss: 0.2746 - val_accuracy: 0.7575 - val_loss: 0.6824\n",
            "Epoch 10/10\n",
            "\u001b[1m64/64\u001b[0m \u001b[32m━━━━━━━━━━━━━━━━━━━━\u001b[0m\u001b[37m\u001b[0m \u001b[1m113s\u001b[0m 2s/step - accuracy: 0.9131 - loss: 0.2844 - val_accuracy: 0.7336 - val_loss: 0.6878\n"
          ]
        }
      ],
      "source": [
        "base_model = tf.keras.applications.MobileNetV2(input_shape=IMG_SIZE + (3,),\n",
        "                                               include_top=False,\n",
        "                                               weights='imagenet')\n",
        "base_model.trainable = False\n",
        "\n",
        "model = tf.keras.Sequential([\n",
        "    base_model,\n",
        "    tf.keras.layers.GlobalAveragePooling2D(),\n",
        "    tf.keras.layers.Dense(6, activation='softmax')  # 6 classes\n",
        "])\n",
        "\n",
        "model.compile(optimizer='adam',\n",
        "              loss='categorical_crossentropy',\n",
        "              metrics=['accuracy'])\n",
        "\n",
        "history = model.fit(train_gen, validation_data=val_gen, epochs=10)"
      ]
    },
    {
      "cell_type": "code",
      "execution_count": 22,
      "metadata": {
        "colab": {
          "base_uri": "https://localhost:8080/"
        },
        "id": "aHtwcsuSXbL4",
        "outputId": "f788e705-8b6f-422c-d18c-9248fb453677"
      },
      "outputs": [
        {
          "name": "stdout",
          "output_type": "stream",
          "text": [
            "\u001b[1m16/16\u001b[0m \u001b[32m━━━━━━━━━━━━━━━━━━━━\u001b[0m\u001b[37m\u001b[0m \u001b[1m22s\u001b[0m 1s/step\n",
            "              precision    recall  f1-score   support\n",
            "\n",
            "   cardboard       0.17      0.12      0.14        80\n",
            "       glass       0.19      0.19      0.19       100\n",
            "       metal       0.14      0.15      0.14        82\n",
            "       paper       0.20      0.24      0.22       118\n",
            "     plastic       0.23      0.24      0.24        96\n",
            "       trash       0.00      0.00      0.00        27\n",
            "\n",
            "    accuracy                           0.18       503\n",
            "   macro avg       0.16      0.16      0.16       503\n",
            "weighted avg       0.18      0.18      0.18       503\n",
            "\n"
          ]
        }
      ],
      "source": [
        "val_preds = model.predict(val_gen)\n",
        "y_pred = np.argmax(val_preds, axis=1)\n",
        "y_true = val_gen.classes\n",
        "\n",
        "print(classification_report(y_true, y_pred, target_names=val_gen.class_indices.keys()))"
      ]
    },
    {
      "cell_type": "code",
      "execution_count": null,
      "metadata": {
        "id": "AA0rHBlgzZTd"
      },
      "outputs": [],
      "source": []
    },
    {
      "cell_type": "code",
      "execution_count": null,
      "metadata": {
        "colab": {
          "base_uri": "https://localhost:8080/"
        },
        "id": "-riFYKYNXhPP",
        "outputId": "fd294f20-9b7d-4284-fe4a-82a3e176f45e"
      },
      "outputs": [
        {
          "name": "stdout",
          "output_type": "stream",
          "text": [
            "Saved artifact at '/tmp/tmpt6co9iho'. The following endpoints are available:\n",
            "\n",
            "* Endpoint 'serve'\n",
            "  args_0 (POSITIONAL_ONLY): TensorSpec(shape=(None, 224, 224, 3), dtype=tf.float32, name='input_layer_1')\n",
            "Output Type:\n",
            "  TensorSpec(shape=(None, 6), dtype=tf.float32, name=None)\n",
            "Captures:\n",
            "  136994080194384: TensorSpec(shape=(), dtype=tf.resource, name=None)\n",
            "  136994080193616: TensorSpec(shape=(), dtype=tf.resource, name=None)\n",
            "  136994080190736: TensorSpec(shape=(), dtype=tf.resource, name=None)\n",
            "  136994080191120: TensorSpec(shape=(), dtype=tf.resource, name=None)\n",
            "  136994080194192: TensorSpec(shape=(), dtype=tf.resource, name=None)\n",
            "  136994080192272: TensorSpec(shape=(), dtype=tf.resource, name=None)\n",
            "  136994080188816: TensorSpec(shape=(), dtype=tf.resource, name=None)\n",
            "  136994080188432: TensorSpec(shape=(), dtype=tf.resource, name=None)\n",
            "  136994080188624: TensorSpec(shape=(), dtype=tf.resource, name=None)\n",
            "  136994080179024: TensorSpec(shape=(), dtype=tf.resource, name=None)\n",
            "  136994080187280: TensorSpec(shape=(), dtype=tf.resource, name=None)\n",
            "  136994080186896: TensorSpec(shape=(), dtype=tf.resource, name=None)\n",
            "  136994080186512: TensorSpec(shape=(), dtype=tf.resource, name=None)\n",
            "  136994080186704: TensorSpec(shape=(), dtype=tf.resource, name=None)\n",
            "  136994080189392: TensorSpec(shape=(), dtype=tf.resource, name=None)\n",
            "  136994080185360: TensorSpec(shape=(), dtype=tf.resource, name=None)\n",
            "  136994080184976: TensorSpec(shape=(), dtype=tf.resource, name=None)\n",
            "  136994080184592: TensorSpec(shape=(), dtype=tf.resource, name=None)\n",
            "  136994080184784: TensorSpec(shape=(), dtype=tf.resource, name=None)\n",
            "  136994080189200: TensorSpec(shape=(), dtype=tf.resource, name=None)\n",
            "  136994080183440: TensorSpec(shape=(), dtype=tf.resource, name=None)\n",
            "  136994080183056: TensorSpec(shape=(), dtype=tf.resource, name=None)\n",
            "  136994080182672: TensorSpec(shape=(), dtype=tf.resource, name=None)\n",
            "  136994080182864: TensorSpec(shape=(), dtype=tf.resource, name=None)\n",
            "  136994080187664: TensorSpec(shape=(), dtype=tf.resource, name=None)\n",
            "  136994080181520: TensorSpec(shape=(), dtype=tf.resource, name=None)\n",
            "  136994080181136: TensorSpec(shape=(), dtype=tf.resource, name=None)\n",
            "  136994080180752: TensorSpec(shape=(), dtype=tf.resource, name=None)\n",
            "  136994080180944: TensorSpec(shape=(), dtype=tf.resource, name=None)\n",
            "  136994080185744: TensorSpec(shape=(), dtype=tf.resource, name=None)\n",
            "  136994080179600: TensorSpec(shape=(), dtype=tf.resource, name=None)\n",
            "  136994080178832: TensorSpec(shape=(), dtype=tf.resource, name=None)\n",
            "  136994080180368: TensorSpec(shape=(), dtype=tf.resource, name=None)\n",
            "  136994080179216: TensorSpec(shape=(), dtype=tf.resource, name=None)\n",
            "  136994080181904: TensorSpec(shape=(), dtype=tf.resource, name=None)\n",
            "  136994077770000: TensorSpec(shape=(), dtype=tf.resource, name=None)\n",
            "  136994077771344: TensorSpec(shape=(), dtype=tf.resource, name=None)\n",
            "  136994077771728: TensorSpec(shape=(), dtype=tf.resource, name=None)\n",
            "  136994077771536: TensorSpec(shape=(), dtype=tf.resource, name=None)\n",
            "  136994077770192: TensorSpec(shape=(), dtype=tf.resource, name=None)\n",
            "  136994077772880: TensorSpec(shape=(), dtype=tf.resource, name=None)\n",
            "  136994077773264: TensorSpec(shape=(), dtype=tf.resource, name=None)\n",
            "  136994077773648: TensorSpec(shape=(), dtype=tf.resource, name=None)\n",
            "  136994077773456: TensorSpec(shape=(), dtype=tf.resource, name=None)\n",
            "  136994077770768: TensorSpec(shape=(), dtype=tf.resource, name=None)\n",
            "  136994077774800: TensorSpec(shape=(), dtype=tf.resource, name=None)\n",
            "  136994077775184: TensorSpec(shape=(), dtype=tf.resource, name=None)\n",
            "  136994077775568: TensorSpec(shape=(), dtype=tf.resource, name=None)\n",
            "  136994077775376: TensorSpec(shape=(), dtype=tf.resource, name=None)\n",
            "  136994077770960: TensorSpec(shape=(), dtype=tf.resource, name=None)\n",
            "  136994077776720: TensorSpec(shape=(), dtype=tf.resource, name=None)\n",
            "  136994077777104: TensorSpec(shape=(), dtype=tf.resource, name=None)\n",
            "  136994077777488: TensorSpec(shape=(), dtype=tf.resource, name=None)\n",
            "  136994077777296: TensorSpec(shape=(), dtype=tf.resource, name=None)\n",
            "  136994077772496: TensorSpec(shape=(), dtype=tf.resource, name=None)\n",
            "  136994077778640: TensorSpec(shape=(), dtype=tf.resource, name=None)\n",
            "  136994077779024: TensorSpec(shape=(), dtype=tf.resource, name=None)\n",
            "  136994077779408: TensorSpec(shape=(), dtype=tf.resource, name=None)\n",
            "  136994077779216: TensorSpec(shape=(), dtype=tf.resource, name=None)\n",
            "  136994077774416: TensorSpec(shape=(), dtype=tf.resource, name=None)\n",
            "  136994077780560: TensorSpec(shape=(), dtype=tf.resource, name=None)\n",
            "  136994077780944: TensorSpec(shape=(), dtype=tf.resource, name=None)\n",
            "  136994077781328: TensorSpec(shape=(), dtype=tf.resource, name=None)\n",
            "  136994077781136: TensorSpec(shape=(), dtype=tf.resource, name=None)\n",
            "  136994077776336: TensorSpec(shape=(), dtype=tf.resource, name=None)\n",
            "  136994077782480: TensorSpec(shape=(), dtype=tf.resource, name=None)\n",
            "  136994077782864: TensorSpec(shape=(), dtype=tf.resource, name=None)\n",
            "  136994077783248: TensorSpec(shape=(), dtype=tf.resource, name=None)\n",
            "  136994077783056: TensorSpec(shape=(), dtype=tf.resource, name=None)\n",
            "  136994077778256: TensorSpec(shape=(), dtype=tf.resource, name=None)\n",
            "  136994077784400: TensorSpec(shape=(), dtype=tf.resource, name=None)\n",
            "  136994077784784: TensorSpec(shape=(), dtype=tf.resource, name=None)\n",
            "  136994077785168: TensorSpec(shape=(), dtype=tf.resource, name=None)\n",
            "  136994077784976: TensorSpec(shape=(), dtype=tf.resource, name=None)\n",
            "  136994077780176: TensorSpec(shape=(), dtype=tf.resource, name=None)\n",
            "  136994077783632: TensorSpec(shape=(), dtype=tf.resource, name=None)\n",
            "  136994078998800: TensorSpec(shape=(), dtype=tf.resource, name=None)\n",
            "  136994078999568: TensorSpec(shape=(), dtype=tf.resource, name=None)\n",
            "  136994077785936: TensorSpec(shape=(), dtype=tf.resource, name=None)\n",
            "  136994077782096: TensorSpec(shape=(), dtype=tf.resource, name=None)\n",
            "  136994079000720: TensorSpec(shape=(), dtype=tf.resource, name=None)\n",
            "  136994079001104: TensorSpec(shape=(), dtype=tf.resource, name=None)\n",
            "  136994079001488: TensorSpec(shape=(), dtype=tf.resource, name=None)\n",
            "  136994079001296: TensorSpec(shape=(), dtype=tf.resource, name=None)\n",
            "  136994078999376: TensorSpec(shape=(), dtype=tf.resource, name=None)\n",
            "  136994079002640: TensorSpec(shape=(), dtype=tf.resource, name=None)\n",
            "  136994079003024: TensorSpec(shape=(), dtype=tf.resource, name=None)\n",
            "  136994079003408: TensorSpec(shape=(), dtype=tf.resource, name=None)\n",
            "  136994079003216: TensorSpec(shape=(), dtype=tf.resource, name=None)\n",
            "  136994078998608: TensorSpec(shape=(), dtype=tf.resource, name=None)\n",
            "  136994079004560: TensorSpec(shape=(), dtype=tf.resource, name=None)\n",
            "  136994079004944: TensorSpec(shape=(), dtype=tf.resource, name=None)\n",
            "  136994079005328: TensorSpec(shape=(), dtype=tf.resource, name=None)\n",
            "  136994079005136: TensorSpec(shape=(), dtype=tf.resource, name=None)\n",
            "  136994079000336: TensorSpec(shape=(), dtype=tf.resource, name=None)\n",
            "  136994079006480: TensorSpec(shape=(), dtype=tf.resource, name=None)\n",
            "  136994079006864: TensorSpec(shape=(), dtype=tf.resource, name=None)\n",
            "  136994079007248: TensorSpec(shape=(), dtype=tf.resource, name=None)\n",
            "  136994079007056: TensorSpec(shape=(), dtype=tf.resource, name=None)\n",
            "  136994079002256: TensorSpec(shape=(), dtype=tf.resource, name=None)\n",
            "  136994079008400: TensorSpec(shape=(), dtype=tf.resource, name=None)\n",
            "  136994079008784: TensorSpec(shape=(), dtype=tf.resource, name=None)\n",
            "  136994079009168: TensorSpec(shape=(), dtype=tf.resource, name=None)\n",
            "  136994079008976: TensorSpec(shape=(), dtype=tf.resource, name=None)\n",
            "  136994079004176: TensorSpec(shape=(), dtype=tf.resource, name=None)\n",
            "  136994079010320: TensorSpec(shape=(), dtype=tf.resource, name=None)\n",
            "  136994079010704: TensorSpec(shape=(), dtype=tf.resource, name=None)\n",
            "  136994079011088: TensorSpec(shape=(), dtype=tf.resource, name=None)\n",
            "  136994079010896: TensorSpec(shape=(), dtype=tf.resource, name=None)\n",
            "  136994079006096: TensorSpec(shape=(), dtype=tf.resource, name=None)\n",
            "  136994079012240: TensorSpec(shape=(), dtype=tf.resource, name=None)\n",
            "  136994079012624: TensorSpec(shape=(), dtype=tf.resource, name=None)\n",
            "  136994079013008: TensorSpec(shape=(), dtype=tf.resource, name=None)\n",
            "  136994079012816: TensorSpec(shape=(), dtype=tf.resource, name=None)\n",
            "  136994079008016: TensorSpec(shape=(), dtype=tf.resource, name=None)\n",
            "  136994079014160: TensorSpec(shape=(), dtype=tf.resource, name=None)\n",
            "  136994079014736: TensorSpec(shape=(), dtype=tf.resource, name=None)\n",
            "  136994079013392: TensorSpec(shape=(), dtype=tf.resource, name=None)\n",
            "  136994079014544: TensorSpec(shape=(), dtype=tf.resource, name=None)\n",
            "  136994079011856: TensorSpec(shape=(), dtype=tf.resource, name=None)\n",
            "  136994078523664: TensorSpec(shape=(), dtype=tf.resource, name=None)\n",
            "  136994078525008: TensorSpec(shape=(), dtype=tf.resource, name=None)\n",
            "  136994078525392: TensorSpec(shape=(), dtype=tf.resource, name=None)\n",
            "  136994078525200: TensorSpec(shape=(), dtype=tf.resource, name=None)\n",
            "  136994078524624: TensorSpec(shape=(), dtype=tf.resource, name=None)\n",
            "  136994078526544: TensorSpec(shape=(), dtype=tf.resource, name=None)\n",
            "  136994078526928: TensorSpec(shape=(), dtype=tf.resource, name=None)\n",
            "  136994078527312: TensorSpec(shape=(), dtype=tf.resource, name=None)\n",
            "  136994078527120: TensorSpec(shape=(), dtype=tf.resource, name=None)\n",
            "  136994078523856: TensorSpec(shape=(), dtype=tf.resource, name=None)\n",
            "  136994078528464: TensorSpec(shape=(), dtype=tf.resource, name=None)\n",
            "  136994078528848: TensorSpec(shape=(), dtype=tf.resource, name=None)\n",
            "  136994078529232: TensorSpec(shape=(), dtype=tf.resource, name=None)\n",
            "  136994078529040: TensorSpec(shape=(), dtype=tf.resource, name=None)\n",
            "  136994078524048: TensorSpec(shape=(), dtype=tf.resource, name=None)\n",
            "  136994078530384: TensorSpec(shape=(), dtype=tf.resource, name=None)\n",
            "  136994078530768: TensorSpec(shape=(), dtype=tf.resource, name=None)\n",
            "  136994078531152: TensorSpec(shape=(), dtype=tf.resource, name=None)\n",
            "  136994078530960: TensorSpec(shape=(), dtype=tf.resource, name=None)\n",
            "  136994078526160: TensorSpec(shape=(), dtype=tf.resource, name=None)\n",
            "  136994078532304: TensorSpec(shape=(), dtype=tf.resource, name=None)\n",
            "  136994078532688: TensorSpec(shape=(), dtype=tf.resource, name=None)\n",
            "  136994078533072: TensorSpec(shape=(), dtype=tf.resource, name=None)\n",
            "  136994078532880: TensorSpec(shape=(), dtype=tf.resource, name=None)\n",
            "  136994078528080: TensorSpec(shape=(), dtype=tf.resource, name=None)\n",
            "  136994078534224: TensorSpec(shape=(), dtype=tf.resource, name=None)\n",
            "  136994078534608: TensorSpec(shape=(), dtype=tf.resource, name=None)\n",
            "  136994078534992: TensorSpec(shape=(), dtype=tf.resource, name=None)\n",
            "  136994078534800: TensorSpec(shape=(), dtype=tf.resource, name=None)\n",
            "  136994078530000: TensorSpec(shape=(), dtype=tf.resource, name=None)\n",
            "  136994078536144: TensorSpec(shape=(), dtype=tf.resource, name=None)\n",
            "  136994078536528: TensorSpec(shape=(), dtype=tf.resource, name=None)\n",
            "  136994078536912: TensorSpec(shape=(), dtype=tf.resource, name=None)\n",
            "  136994078536720: TensorSpec(shape=(), dtype=tf.resource, name=None)\n",
            "  136994078531920: TensorSpec(shape=(), dtype=tf.resource, name=None)\n",
            "  136994078538064: TensorSpec(shape=(), dtype=tf.resource, name=None)\n",
            "  136994078538448: TensorSpec(shape=(), dtype=tf.resource, name=None)\n",
            "  136994078538832: TensorSpec(shape=(), dtype=tf.resource, name=None)\n",
            "  136994078538640: TensorSpec(shape=(), dtype=tf.resource, name=None)\n",
            "  136994078533840: TensorSpec(shape=(), dtype=tf.resource, name=None)\n",
            "  136994078537296: TensorSpec(shape=(), dtype=tf.resource, name=None)\n",
            "  136994144830096: TensorSpec(shape=(), dtype=tf.resource, name=None)\n",
            "  136994144829520: TensorSpec(shape=(), dtype=tf.resource, name=None)\n",
            "  136994078539600: TensorSpec(shape=(), dtype=tf.resource, name=None)\n",
            "  136994078535760: TensorSpec(shape=(), dtype=tf.resource, name=None)\n",
            "  136994144831632: TensorSpec(shape=(), dtype=tf.resource, name=None)\n",
            "  136994144832016: TensorSpec(shape=(), dtype=tf.resource, name=None)\n",
            "  136994144832400: TensorSpec(shape=(), dtype=tf.resource, name=None)\n",
            "  136994144832208: TensorSpec(shape=(), dtype=tf.resource, name=None)\n",
            "  136994144829712: TensorSpec(shape=(), dtype=tf.resource, name=None)\n",
            "  136994144833552: TensorSpec(shape=(), dtype=tf.resource, name=None)\n",
            "  136994144833936: TensorSpec(shape=(), dtype=tf.resource, name=None)\n",
            "  136994144834320: TensorSpec(shape=(), dtype=tf.resource, name=None)\n",
            "  136994144834128: TensorSpec(shape=(), dtype=tf.resource, name=None)\n",
            "  136994144830288: TensorSpec(shape=(), dtype=tf.resource, name=None)\n",
            "  136994144835472: TensorSpec(shape=(), dtype=tf.resource, name=None)\n",
            "  136994144835856: TensorSpec(shape=(), dtype=tf.resource, name=None)\n",
            "  136994144836240: TensorSpec(shape=(), dtype=tf.resource, name=None)\n",
            "  136994144836048: TensorSpec(shape=(), dtype=tf.resource, name=None)\n",
            "  136994144831248: TensorSpec(shape=(), dtype=tf.resource, name=None)\n",
            "  136994144837392: TensorSpec(shape=(), dtype=tf.resource, name=None)\n",
            "  136994144837776: TensorSpec(shape=(), dtype=tf.resource, name=None)\n",
            "  136994144838160: TensorSpec(shape=(), dtype=tf.resource, name=None)\n",
            "  136994144837968: TensorSpec(shape=(), dtype=tf.resource, name=None)\n",
            "  136994144833168: TensorSpec(shape=(), dtype=tf.resource, name=None)\n",
            "  136994144839312: TensorSpec(shape=(), dtype=tf.resource, name=None)\n",
            "  136994144839696: TensorSpec(shape=(), dtype=tf.resource, name=None)\n",
            "  136994144840080: TensorSpec(shape=(), dtype=tf.resource, name=None)\n",
            "  136994144839888: TensorSpec(shape=(), dtype=tf.resource, name=None)\n",
            "  136994144835088: TensorSpec(shape=(), dtype=tf.resource, name=None)\n",
            "  136994144841232: TensorSpec(shape=(), dtype=tf.resource, name=None)\n",
            "  136994144841616: TensorSpec(shape=(), dtype=tf.resource, name=None)\n",
            "  136994144842000: TensorSpec(shape=(), dtype=tf.resource, name=None)\n",
            "  136994144841808: TensorSpec(shape=(), dtype=tf.resource, name=None)\n",
            "  136994144837008: TensorSpec(shape=(), dtype=tf.resource, name=None)\n",
            "  136994144843152: TensorSpec(shape=(), dtype=tf.resource, name=None)\n",
            "  136994144843536: TensorSpec(shape=(), dtype=tf.resource, name=None)\n",
            "  136994144843920: TensorSpec(shape=(), dtype=tf.resource, name=None)\n",
            "  136994144843728: TensorSpec(shape=(), dtype=tf.resource, name=None)\n",
            "  136994144838928: TensorSpec(shape=(), dtype=tf.resource, name=None)\n",
            "  136994144845072: TensorSpec(shape=(), dtype=tf.resource, name=None)\n",
            "  136994144845648: TensorSpec(shape=(), dtype=tf.resource, name=None)\n",
            "  136994144844304: TensorSpec(shape=(), dtype=tf.resource, name=None)\n",
            "  136994144845456: TensorSpec(shape=(), dtype=tf.resource, name=None)\n",
            "  136994144842768: TensorSpec(shape=(), dtype=tf.resource, name=None)\n",
            "  136994145157392: TensorSpec(shape=(), dtype=tf.resource, name=None)\n",
            "  136994145158736: TensorSpec(shape=(), dtype=tf.resource, name=None)\n",
            "  136994145159120: TensorSpec(shape=(), dtype=tf.resource, name=None)\n",
            "  136994145158928: TensorSpec(shape=(), dtype=tf.resource, name=None)\n",
            "  136994145157584: TensorSpec(shape=(), dtype=tf.resource, name=None)\n",
            "  136994145160272: TensorSpec(shape=(), dtype=tf.resource, name=None)\n",
            "  136994145160656: TensorSpec(shape=(), dtype=tf.resource, name=None)\n",
            "  136994145161040: TensorSpec(shape=(), dtype=tf.resource, name=None)\n",
            "  136994145160848: TensorSpec(shape=(), dtype=tf.resource, name=None)\n",
            "  136994145158160: TensorSpec(shape=(), dtype=tf.resource, name=None)\n",
            "  136994145162192: TensorSpec(shape=(), dtype=tf.resource, name=None)\n",
            "  136994145162576: TensorSpec(shape=(), dtype=tf.resource, name=None)\n",
            "  136994145162960: TensorSpec(shape=(), dtype=tf.resource, name=None)\n",
            "  136994145162768: TensorSpec(shape=(), dtype=tf.resource, name=None)\n",
            "  136994145158352: TensorSpec(shape=(), dtype=tf.resource, name=None)\n",
            "  136994145164112: TensorSpec(shape=(), dtype=tf.resource, name=None)\n",
            "  136994145164496: TensorSpec(shape=(), dtype=tf.resource, name=None)\n",
            "  136994145164880: TensorSpec(shape=(), dtype=tf.resource, name=None)\n",
            "  136994145164688: TensorSpec(shape=(), dtype=tf.resource, name=None)\n",
            "  136994145159888: TensorSpec(shape=(), dtype=tf.resource, name=None)\n",
            "  136994145166032: TensorSpec(shape=(), dtype=tf.resource, name=None)\n",
            "  136994145166416: TensorSpec(shape=(), dtype=tf.resource, name=None)\n",
            "  136994145166800: TensorSpec(shape=(), dtype=tf.resource, name=None)\n",
            "  136994145166608: TensorSpec(shape=(), dtype=tf.resource, name=None)\n",
            "  136994145161808: TensorSpec(shape=(), dtype=tf.resource, name=None)\n",
            "  136994145167952: TensorSpec(shape=(), dtype=tf.resource, name=None)\n",
            "  136994145168336: TensorSpec(shape=(), dtype=tf.resource, name=None)\n",
            "  136994145168720: TensorSpec(shape=(), dtype=tf.resource, name=None)\n",
            "  136994145168528: TensorSpec(shape=(), dtype=tf.resource, name=None)\n",
            "  136994145163728: TensorSpec(shape=(), dtype=tf.resource, name=None)\n",
            "  136994145169872: TensorSpec(shape=(), dtype=tf.resource, name=None)\n",
            "  136994145170256: TensorSpec(shape=(), dtype=tf.resource, name=None)\n",
            "  136994145170640: TensorSpec(shape=(), dtype=tf.resource, name=None)\n",
            "  136994145170448: TensorSpec(shape=(), dtype=tf.resource, name=None)\n",
            "  136994145165648: TensorSpec(shape=(), dtype=tf.resource, name=None)\n",
            "  136994145171792: TensorSpec(shape=(), dtype=tf.resource, name=None)\n",
            "  136994145172176: TensorSpec(shape=(), dtype=tf.resource, name=None)\n",
            "  136994145172560: TensorSpec(shape=(), dtype=tf.resource, name=None)\n",
            "  136994145172368: TensorSpec(shape=(), dtype=tf.resource, name=None)\n",
            "  136994145167568: TensorSpec(shape=(), dtype=tf.resource, name=None)\n",
            "  136994145171024: TensorSpec(shape=(), dtype=tf.resource, name=None)\n",
            "  136994145517840: TensorSpec(shape=(), dtype=tf.resource, name=None)\n",
            "  136994145518608: TensorSpec(shape=(), dtype=tf.resource, name=None)\n",
            "  136994145173328: TensorSpec(shape=(), dtype=tf.resource, name=None)\n",
            "  136994145169488: TensorSpec(shape=(), dtype=tf.resource, name=None)\n",
            "  136994145519760: TensorSpec(shape=(), dtype=tf.resource, name=None)\n",
            "  136994145520144: TensorSpec(shape=(), dtype=tf.resource, name=None)\n",
            "  136994145520528: TensorSpec(shape=(), dtype=tf.resource, name=None)\n",
            "  136994145520336: TensorSpec(shape=(), dtype=tf.resource, name=None)\n",
            "  136994145518416: TensorSpec(shape=(), dtype=tf.resource, name=None)\n",
            "  136994145521680: TensorSpec(shape=(), dtype=tf.resource, name=None)\n",
            "  136994145522064: TensorSpec(shape=(), dtype=tf.resource, name=None)\n",
            "  136994145522448: TensorSpec(shape=(), dtype=tf.resource, name=None)\n",
            "  136994145522256: TensorSpec(shape=(), dtype=tf.resource, name=None)\n",
            "  136994145517648: TensorSpec(shape=(), dtype=tf.resource, name=None)\n",
            "  136994145523600: TensorSpec(shape=(), dtype=tf.resource, name=None)\n",
            "  136994145524176: TensorSpec(shape=(), dtype=tf.resource, name=None)\n"
          ]
        }
      ],
      "source": [
        "# Save model\n",
        "model.save('recyclenet_model.keras')\n",
        "\n",
        "saved_model = tf.keras.models.load_model('recyclenet_model.keras')\n",
        "\n",
        "# Convert to TFLite\n",
        "converter = tf.lite.TFLiteConverter.from_keras_model(saved_model)\n",
        "tflite_model = converter.convert()\n",
        "\n",
        "# Save TFLite model\n",
        "with open('recyclenet_model.tflite', 'wb') as f:\n",
        "    f.write(tflite_model)"
      ]
    },
    {
      "cell_type": "code",
      "execution_count": null,
      "metadata": {
        "colab": {
          "base_uri": "https://localhost:8080/"
        },
        "id": "pjruyUHNXown",
        "outputId": "10e16846-74b6-4459-8c74-bc601bb54332"
      },
      "outputs": [
        {
          "name": "stdout",
          "output_type": "stream",
          "text": [
            "Predicted Class: cardboard 1\n"
          ]
        }
      ],
      "source": [
        "interpreter = tf.lite.Interpreter(model_path='recyclenet_model.tflite')\n",
        "interpreter.allocate_tensors()\n",
        "\n",
        "input_details = interpreter.get_input_details()\n",
        "output_details = interpreter.get_output_details()\n",
        "\n",
        "# Load and preprocess one test image\n",
        "import cv2\n",
        "img = cv2.imread('/home/jeremy/Downloads/archive (8)garbage classification/Garbage classification/plastic/plastic1.jpg')\n",
        "img = cv2.resize(img, IMG_SIZE)\n",
        "input_data = np.expand_dims(img / 255.0, axis=0).astype(np.float32)\n",
        "\n",
        "# Run inference\n",
        "interpreter.set_tensor(input_details[0]['index'], input_data)\n",
        "interpreter.invoke()\n",
        "\n",
        "output = interpreter.get_tensor(output_details[0]['index'])\n",
        "print(\"Predicted Class:\", val_gen.class_indices.keys().__iter__().__next__(), np.argmax(output))"
      ]
    },
    {
      "cell_type": "code",
      "execution_count": null,
      "metadata": {
        "id": "w9a4qC0_Sxon"
      },
      "outputs": [],
      "source": [
        "X_train = []\n",
        "y_train = []\n",
        "labels = [\"cardboard\" , \"glass\" , \"metal\" , \"paper\" , \"plastic\" , \"trash\"]\n",
        "image_size = 224\n",
        "\n",
        "for label in labels :\n",
        "    folderPath = os.path.join(\"/home/jeremy/Downloads/archive (8)/garbage classification/Garbage classification/\" , label)\n",
        "    for path in os.listdir(folderPath) :\n",
        "        image_path = os.path.join(folderPath , path)\n",
        "        image = cv2.imread(image_path)\n",
        "        image = cv2.resize(image , (image_size , image_size))\n",
        "        X_train.append(image)\n",
        "        y_train.append(label)"
      ]
    },
    {
      "cell_type": "code",
      "execution_count": null,
      "metadata": {
        "id": "b6rex9Wub5EF"
      },
      "outputs": [],
      "source": [
        "X_test = []\n",
        "y_test = []\n",
        "\n",
        "for label in labels :\n",
        "    folderPath = os.path.join(\"/home/jeremy/Downloads/archive (8)/garbage classification/Garbage classification/\" , label)\n",
        "    for path in os.listdir(folderPath) :\n",
        "        image_path = os.path.join(folderPath , path)\n",
        "        image = cv2.imread(image_path)\n",
        "        image = cv2.resize(image , (image_size , image_size))\n",
        "        X_test.append(image)\n",
        "        y_test.append(label)"
      ]
    },
    {
      "cell_type": "code",
      "execution_count": 34,
      "metadata": {
        "id": "6eZdF2_jbvlP"
      },
      "outputs": [],
      "source": [
        "X_train = np.array(X_train)\n",
        "X_test = np.array(X_test)\n",
        "y_train = np.array(y_train)\n",
        "y_test = np.array(y_test)"
      ]
    },
    {
      "cell_type": "code",
      "execution_count": 35,
      "metadata": {
        "id": "fJBMLXQ_bwgI"
      },
      "outputs": [],
      "source": [
        "X_train , y_train = shuffle(X_train , y_train , random_state = 42)"
      ]
    },
    {
      "cell_type": "code",
      "execution_count": 36,
      "metadata": {
        "id": "dXT_QUQ2cB0a"
      },
      "outputs": [],
      "source": [
        "label_encoder = LabelEncoder()\n",
        "y_train = label_encoder.fit_transform(y_train)\n",
        "y_test = label_encoder.transform(y_test)"
      ]
    },
    {
      "cell_type": "code",
      "execution_count": 37,
      "metadata": {
        "id": "suyyultfcKdR"
      },
      "outputs": [],
      "source": [
        "y_train = to_categorical(y_train , num_classes = 6)\n",
        "y_test = to_categorical(y_test , num_classes = 6)"
      ]
    },
    {
      "cell_type": "code",
      "execution_count": 38,
      "metadata": {
        "colab": {
          "base_uri": "https://localhost:8080/"
        },
        "id": "z-DOIvK7cQMU",
        "outputId": "1fd5c3f6-0306-4ddf-fab7-9c9ae35df0cf"
      },
      "outputs": [
        {
          "name": "stdout",
          "output_type": "stream",
          "text": [
            " X_train : (2528, 224, 224, 3) \n",
            " X_test : (2528, 224, 224, 3) \n",
            " y_train : (2528, 6) \n",
            " y_test : (2528, 6) \n"
          ]
        }
      ],
      "source": [
        "print(f\" X_train : {X_train.shape} \")\n",
        "print(f\" X_test : {X_test.shape} \")\n",
        "print(f\" y_train : {y_train.shape} \")\n",
        "print(f\" y_test : {y_test.shape} \")"
      ]
    },
    {
      "cell_type": "code",
      "execution_count": 39,
      "metadata": {
        "id": "vvXdlQyvcRLO"
      },
      "outputs": [],
      "source": [
        "datagen = ImageDataGenerator(validation_split = 0.2 ,\n",
        "                             rescale = 1.0/255.00 ,\n",
        "                             horizontal_flip = True ,\n",
        "                             width_shift_range = 0.2 ,\n",
        "                             height_shift_range = 0.2 ,\n",
        "                             zoom_range = 90)"
      ]
    },
    {
      "cell_type": "code",
      "execution_count": 40,
      "metadata": {
        "id": "TmLGoQR1cV8J"
      },
      "outputs": [],
      "source": [
        "datagen.fit(X_train)"
      ]
    },
    {
      "cell_type": "code",
      "execution_count": 41,
      "metadata": {
        "id": "bWunbaBbcZ48"
      },
      "outputs": [],
      "source": [
        "model = Sequential()\n",
        "\n",
        "model.add(Conv2D(filters = 16 , kernel_size = (3,3) , input_shape = (224,224,3) ,\n",
        "                padding = \"same\" , activation = \"relu\"))\n",
        "model.add(MaxPooling2D(pool_size = (2,2)))\n",
        "model.add(Dropout(0.2))\n",
        "\n",
        "model.add(Conv2D(filters = 32 , kernel_size = (3,3) , activation = \"relu\"))\n",
        "model.add(MaxPooling2D(pool_size = (2,2) , strides = (2,2)))\n",
        "\n",
        "learning_rate = 0.001\n",
        "optimizer = Adam(learning_rate = learning_rate)\n",
        "\n",
        "model.add(Flatten())\n",
        "model.add(Dense(512 , activation = \"relu\"))\n",
        "model.add(Dense(6 , activation = \"softmax\"))\n",
        "\n",
        "model.compile(optimizer = optimizer ,loss = \"categorical_crossentropy\" , metrics = [\"accuracy\"])"
      ]
    },
    {
      "cell_type": "code",
      "execution_count": 42,
      "metadata": {
        "id": "i86ppkYqcjCV"
      },
      "outputs": [],
      "source": [
        "early_stopping = EarlyStopping(monitor = \"val_loss\" , patience = 10 , restore_best_weights = True , verbose = 1 )"
      ]
    },
    {
      "cell_type": "code",
      "execution_count": null,
      "metadata": {
        "colab": {
          "base_uri": "https://localhost:8080/"
        },
        "id": "fOzEoi4GcoFx",
        "outputId": "4575c65f-a1cb-4ee0-d7da-cdf3ae154758"
      },
      "outputs": [
        {
          "name": "stdout",
          "output_type": "stream",
          "text": [
            "Epoch 1/60\n",
            "\u001b[1m40/40\u001b[0m \u001b[32m━━━━━━━━━━━━━━━━━━━━\u001b[0m\u001b[37m\u001b[0m \u001b[1m228s\u001b[0m 6s/step - accuracy: 0.2037 - loss: 4719.7314 - val_accuracy: 0.1919 - val_loss: 2.0040\n",
            "Epoch 2/60\n",
            "\u001b[1m40/40\u001b[0m \u001b[32m━━━━━━━━━━━━━━━━━━━━\u001b[0m\u001b[37m\u001b[0m \u001b[1m236s\u001b[0m 5s/step - accuracy: 0.2758 - loss: 2.5431 - val_accuracy: 0.2923 - val_loss: 1.7190\n",
            "Epoch 3/60\n",
            "\u001b[1m21/40\u001b[0m \u001b[32m━━━━━━━━━━\u001b[0m\u001b[37m━━━━━━━━━━\u001b[0m \u001b[1m1:07\u001b[0m 4s/step - accuracy: 0.3326 - loss: 1.5835"
          ]
        }
      ],
      "source": [
        "history = model.fit(X_train , y_train , epochs = 60 , batch_size = 64 , verbose = 1 ,\n",
        "                   validation_data = (X_test , y_test) , callbacks = early_stopping)"
      ]
    },
    {
      "cell_type": "code",
      "execution_count": null,
      "metadata": {
        "id": "5m-Rx_EpctLK"
      },
      "outputs": [],
      "source": [
        "y_pred = model.predict(X_test)\n",
        "y_pred = np.argmax(y_pred , axis = 1)\n",
        "y_test = np.argmax(y_test , axis = 1)"
      ]
    },
    {
      "cell_type": "code",
      "execution_count": null,
      "metadata": {
        "id": "3Zb4E3IRc0N4"
      },
      "outputs": [],
      "source": [
        "labels = [\"cardboard\" , \"glass\" , \"metal\" , \"paper\" , \"plastic\" , \"trash\"]"
      ]
    },
    {
      "cell_type": "code",
      "execution_count": null,
      "metadata": {
        "id": "rZ00pPimc66y"
      },
      "outputs": [],
      "source": [
        "print(classification_report(y_pred , y_test , target_names = labels))"
      ]
    },
    {
      "cell_type": "code",
      "execution_count": null,
      "metadata": {
        "id": "Q-W93upFdDLG"
      },
      "outputs": [],
      "source": [
        "plt.figure(figsize = (8,6))\n",
        "sns.lineplot(history.history[\"accuracy\"] , label = \"Train Accuracy\")\n",
        "sns.lineplot(history.history[\"val_accuracy\"] , label = \"Test Accuracy\")\n",
        "plt.xlabel(\"epochs\")\n",
        "plt.ylabel(\"accuracy\")\n",
        "plt.title(\"Train vs Test Accuracy \")\n",
        "plt.legend()\n",
        "plt.show()"
      ]
    },
    {
      "cell_type": "code",
      "execution_count": null,
      "metadata": {
        "id": "AcREYPVXdIZx"
      },
      "outputs": [],
      "source": [
        "cm = confusion_matrix(y_pred , y_test)\n",
        "cm_df = pd.DataFrame(cm, index = labels , columns = labels)"
      ]
    },
    {
      "cell_type": "code",
      "execution_count": null,
      "metadata": {
        "id": "Vdhfl0o5dJet"
      },
      "outputs": [],
      "source": [
        "plt.figure(figsize = (10,6))\n",
        "sns.heatmap(cm_df , annot = True ,\n",
        "            fmt = \"d\" , linewidths = 0.5 , cmap = \"coolwarm\")"
      ]
    },
    {
      "cell_type": "code",
      "execution_count": null,
      "metadata": {
        "id": "tPfaAM4GdOGn"
      },
      "outputs": [],
      "source": [
        "model.summary()"
      ]
    },
    {
      "cell_type": "code",
      "execution_count": null,
      "metadata": {
        "id": "gB-OiViKfKe3"
      },
      "outputs": [],
      "source": [
        "# prompt: save the model as recyclenet_model\n",
        "\n",
        "model.save('recyclenet_model.keras')"
      ]
    },
    {
      "cell_type": "code",
      "execution_count": null,
      "metadata": {
        "id": "CZdIa0bpfV4m"
      },
      "outputs": [],
      "source": [
        "# prompt: load the model\n",
        "\n",
        "# Load the saved model\n",
        "loaded_model = tf.keras.models.load_model('recyclenet_model.keras')\n",
        "\n",
        "# You can now use the loaded_model for predictions or further evaluation\n",
        "# For example, to get predictions on the test data:\n",
        "# loaded_predictions = loaded_model.predict(X_test)"
      ]
    }
  ],
  "metadata": {
    "colab": {
      "provenance": []
    },
    "kernelspec": {
      "display_name": "venv",
      "language": "python",
      "name": "python3"
    },
    "language_info": {
      "codemirror_mode": {
        "name": "ipython",
        "version": 3
      },
      "file_extension": ".py",
      "mimetype": "text/x-python",
      "name": "python",
      "nbconvert_exporter": "python",
      "pygments_lexer": "ipython3",
      "version": "3.12.3"
    }
  },
  "nbformat": 4,
  "nbformat_minor": 0
}
