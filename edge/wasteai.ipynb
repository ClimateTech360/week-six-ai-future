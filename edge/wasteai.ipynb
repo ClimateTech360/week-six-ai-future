{
  "cells": [
    {
      "cell_type": "code",
      "execution_count": null,
      "metadata": {
        "colab": {
          "base_uri": "https://localhost:8080/"
        },
        "id": "WclRJd0vSY_s",
        "outputId": "4cd1c7e2-61ba-4e04-d503-e61d63e03271"
      },
      "outputs": [
        {
          "name": "stdout",
          "output_type": "stream",
          "text": [
            "Mounted at /content/drive/\n"
          ]
        }
      ],
      "source": [
        "import tensorflow as tf\n",
        "from tensorflow.keras.preprocessing.image import ImageDataGenerator\n",
        "from sklearn.metrics import classification_report, f1_score, confusion_matrix, recall_score, precision_score\n",
        "import matplotlib.pyplot as plt\n",
        "import seaborn as sns\n",
        "import numpy as np\n",
        "import pandas as pd\n",
        "import os\n",
        "import matplotlib.pyplot as plt\n",
        "import seaborn as sns\n",
        "import warnings\n",
        "warnings.filterwarnings(\"ignore\")\n",
        "import tensorflow as tf\n",
        "from sklearn.model_selection import train_test_split\n",
        "from sklearn.preprocessing import LabelEncoder\n",
        "from sklearn.utils import shuffle\n",
        "from sklearn.metrics import classification_report , confusion_matrix\n",
        "import cv2\n",
        "from PIL import Image\n",
        "from keras.models import Sequential\n",
        "from keras.layers import Dense , Flatten , Dropout , Conv2D , MaxPooling2D\n",
        "from keras.utils import to_categorical\n",
        "from keras.optimizers import Adam\n",
        "from tensorflow.keras.preprocessing.image import ImageDataGenerator\n",
        "from keras.callbacks import EarlyStopping\n",
        "from google.colab import drive\n",
        "\n",
        "drive.mount('/content/drive/', force_remount=True)\n",
        "# https://www.kaggle.com/datasets/asdasdasasdas/garbage-classification"
      ]
    },
    {
      "cell_type": "code",
      "execution_count": null,
      "metadata": {
        "id": "Zvt2pNfYXx6_"
      },
      "outputs": [],
      "source": [
        "os.environ['TF_CPP_MIN_LOG_LEVEL'] = '3'  # Disable verbose logging\n",
        "tf.config.threading.set_intra_op_parallelism_threads(1)\n",
        "tf.config.threading.set_inter_op_parallelism_threads(1)"
      ]
    },
    {
      "cell_type": "code",
      "execution_count": 28,
      "metadata": {
        "colab": {
          "base_uri": "https://localhost:8080/"
        },
        "id": "pSCs-OTjSPHE",
        "outputId": "fcceb5aa-cb23-4758-c2c5-77c44e654a57"
      },
      "outputs": [
        {
          "output_type": "stream",
          "name": "stdout",
          "text": [
            "Found 2025 images belonging to 6 classes.\n",
            "Found 503 images belonging to 6 classes.\n"
          ]
        }
      ],
      "source": [
        "IMG_SIZE = (224, 224)\n",
        "BATCH_SIZE = 32\n",
        "\n",
        "train_datagen = ImageDataGenerator(\n",
        "    rescale=1./255,\n",
        "    validation_split=0.2,\n",
        "    shear_range=0.2,\n",
        "    zoom_range=0.2,\n",
        "    horizontal_flip=True)\n",
        "\n",
        "train_gen = train_datagen.flow_from_directory(\n",
        "    '/content/drive/MyDrive/PLP Resources/archive (8)/garbage classification/Garbage classification',\n",
        "    target_size=IMG_SIZE,\n",
        "    batch_size=BATCH_SIZE,\n",
        "    class_mode='categorical',\n",
        "    subset='training')\n",
        "\n",
        "val_gen = train_datagen.flow_from_directory(\n",
        "    '/content/drive/MyDrive/PLP Resources/archive (8)/garbage classification/Garbage classification',\n",
        "    target_size=IMG_SIZE,\n",
        "    batch_size=BATCH_SIZE,\n",
        "    class_mode='categorical',\n",
        "    subset='validation')"
      ]
    },
    {
      "cell_type": "code",
      "execution_count": null,
      "metadata": {
        "colab": {
          "base_uri": "https://localhost:8080/"
        },
        "id": "r4Stf--JXSTx",
        "outputId": "847ae824-ffbe-42c9-9935-a48384c226cb"
      },
      "outputs": [
        {
          "name": "stdout",
          "output_type": "stream",
          "text": [
            "Downloading data from https://storage.googleapis.com/tensorflow/keras-applications/mobilenet_v2/mobilenet_v2_weights_tf_dim_ordering_tf_kernels_1.0_224_no_top.h5\n",
            "\u001b[1m9406464/9406464\u001b[0m \u001b[32m━━━━━━━━━━━━━━━━━━━━\u001b[0m\u001b[37m\u001b[0m \u001b[1m0s\u001b[0m 0us/step\n",
            "Epoch 1/10\n",
            "\u001b[1m64/64\u001b[0m \u001b[32m━━━━━━━━━━━━━━━━━━━━\u001b[0m\u001b[37m\u001b[0m \u001b[1m565s\u001b[0m 9s/step - accuracy: 0.4785 - loss: 1.3378 - val_accuracy: 0.6581 - val_loss: 0.9015\n",
            "Epoch 2/10\n",
            "\u001b[1m64/64\u001b[0m \u001b[32m━━━━━━━━━━━━━━━━━━━━\u001b[0m\u001b[37m\u001b[0m \u001b[1m99s\u001b[0m 2s/step - accuracy: 0.7690 - loss: 0.6547 - val_accuracy: 0.7097 - val_loss: 0.7582\n",
            "Epoch 3/10\n",
            "\u001b[1m64/64\u001b[0m \u001b[32m━━━━━━━━━━━━━━━━━━━━\u001b[0m\u001b[37m\u001b[0m \u001b[1m97s\u001b[0m 2s/step - accuracy: 0.8032 - loss: 0.5494 - val_accuracy: 0.6998 - val_loss: 0.7551\n",
            "Epoch 4/10\n",
            "\u001b[1m64/64\u001b[0m \u001b[32m━━━━━━━━━━━━━━━━━━━━\u001b[0m\u001b[37m\u001b[0m \u001b[1m112s\u001b[0m 2s/step - accuracy: 0.8438 - loss: 0.4392 - val_accuracy: 0.7217 - val_loss: 0.7204\n",
            "Epoch 5/10\n",
            "\u001b[1m64/64\u001b[0m \u001b[32m━━━━━━━━━━━━━━━━━━━━\u001b[0m\u001b[37m\u001b[0m \u001b[1m103s\u001b[0m 2s/step - accuracy: 0.8598 - loss: 0.4323 - val_accuracy: 0.7356 - val_loss: 0.6817\n",
            "Epoch 6/10\n",
            "\u001b[1m64/64\u001b[0m \u001b[32m━━━━━━━━━━━━━━━━━━━━\u001b[0m\u001b[37m\u001b[0m \u001b[1m103s\u001b[0m 2s/step - accuracy: 0.8687 - loss: 0.3651 - val_accuracy: 0.7455 - val_loss: 0.6496\n",
            "Epoch 7/10\n",
            "\u001b[1m64/64\u001b[0m \u001b[32m━━━━━━━━━━━━━━━━━━━━\u001b[0m\u001b[37m\u001b[0m \u001b[1m104s\u001b[0m 2s/step - accuracy: 0.8930 - loss: 0.3227 - val_accuracy: 0.7336 - val_loss: 0.6878\n",
            "Epoch 8/10\n",
            "\u001b[1m64/64\u001b[0m \u001b[32m━━━━━━━━━━━━━━━━━━━━\u001b[0m\u001b[37m\u001b[0m \u001b[1m105s\u001b[0m 2s/step - accuracy: 0.8995 - loss: 0.3069 - val_accuracy: 0.7495 - val_loss: 0.6756\n",
            "Epoch 9/10\n",
            "\u001b[1m64/64\u001b[0m \u001b[32m━━━━━━━━━━━━━━━━━━━━\u001b[0m\u001b[37m\u001b[0m \u001b[1m102s\u001b[0m 2s/step - accuracy: 0.9105 - loss: 0.2746 - val_accuracy: 0.7575 - val_loss: 0.6824\n",
            "Epoch 10/10\n",
            "\u001b[1m64/64\u001b[0m \u001b[32m━━━━━━━━━━━━━━━━━━━━\u001b[0m\u001b[37m\u001b[0m \u001b[1m113s\u001b[0m 2s/step - accuracy: 0.9131 - loss: 0.2844 - val_accuracy: 0.7336 - val_loss: 0.6878\n"
          ]
        }
      ],
      "source": [
        "base_model = tf.keras.applications.MobileNetV2(input_shape=IMG_SIZE + (3,),\n",
        "                                               include_top=False,\n",
        "                                               weights='imagenet')\n",
        "base_model.trainable = False\n",
        "\n",
        "model = tf.keras.Sequential([\n",
        "    base_model,\n",
        "    tf.keras.layers.GlobalAveragePooling2D(),\n",
        "    tf.keras.layers.Dense(6, activation='softmax')  # 6 classes\n",
        "])\n",
        "\n",
        "model.compile(optimizer='adam',\n",
        "              loss='categorical_crossentropy',\n",
        "              metrics=['accuracy'])\n",
        "\n",
        "history = model.fit(train_gen, validation_data=val_gen, epochs=10)"
      ]
    },
    {
      "cell_type": "code",
      "execution_count": null,
      "metadata": {
        "colab": {
          "base_uri": "https://localhost:8080/"
        },
        "id": "aHtwcsuSXbL4",
        "outputId": "f788e705-8b6f-422c-d18c-9248fb453677"
      },
      "outputs": [
        {
          "name": "stdout",
          "output_type": "stream",
          "text": [
            "\u001b[1m16/16\u001b[0m \u001b[32m━━━━━━━━━━━━━━━━━━━━\u001b[0m\u001b[37m\u001b[0m \u001b[1m22s\u001b[0m 1s/step\n",
            "              precision    recall  f1-score   support\n",
            "\n",
            "   cardboard       0.17      0.12      0.14        80\n",
            "       glass       0.19      0.19      0.19       100\n",
            "       metal       0.14      0.15      0.14        82\n",
            "       paper       0.20      0.24      0.22       118\n",
            "     plastic       0.23      0.24      0.24        96\n",
            "       trash       0.00      0.00      0.00        27\n",
            "\n",
            "    accuracy                           0.18       503\n",
            "   macro avg       0.16      0.16      0.16       503\n",
            "weighted avg       0.18      0.18      0.18       503\n",
            "\n"
          ]
        }
      ],
      "source": [
        "val_preds = model.predict(val_gen)\n",
        "y_pred = np.argmax(val_preds, axis=1)\n",
        "y_true = val_gen.classes\n",
        "\n",
        "print(classification_report(y_true, y_pred, target_names=val_gen.class_indices.keys()))"
      ]
    },
    {
      "cell_type": "code",
      "execution_count": null,
      "metadata": {
        "id": "AA0rHBlgzZTd"
      },
      "outputs": [],
      "source": []
    },
    {
      "cell_type": "code",
      "execution_count": null,
      "metadata": {
        "colab": {
          "base_uri": "https://localhost:8080/"
        },
        "id": "-riFYKYNXhPP",
        "outputId": "fd294f20-9b7d-4284-fe4a-82a3e176f45e"
      },
      "outputs": [
        {
          "name": "stdout",
          "output_type": "stream",
          "text": [
            "Saved artifact at '/tmp/tmpt6co9iho'. The following endpoints are available:\n",
            "\n",
            "* Endpoint 'serve'\n",
            "  args_0 (POSITIONAL_ONLY): TensorSpec(shape=(None, 224, 224, 3), dtype=tf.float32, name='input_layer_1')\n",
            "Output Type:\n",
            "  TensorSpec(shape=(None, 6), dtype=tf.float32, name=None)\n",
            "Captures:\n",
            "  136994080194384: TensorSpec(shape=(), dtype=tf.resource, name=None)\n",
            "  136994080193616: TensorSpec(shape=(), dtype=tf.resource, name=None)\n",
            "  136994080190736: TensorSpec(shape=(), dtype=tf.resource, name=None)\n",
            "  136994080191120: TensorSpec(shape=(), dtype=tf.resource, name=None)\n",
            "  136994080194192: TensorSpec(shape=(), dtype=tf.resource, name=None)\n",
            "  136994080192272: TensorSpec(shape=(), dtype=tf.resource, name=None)\n",
            "  136994080188816: TensorSpec(shape=(), dtype=tf.resource, name=None)\n",
            "  136994080188432: TensorSpec(shape=(), dtype=tf.resource, name=None)\n",
            "  136994080188624: TensorSpec(shape=(), dtype=tf.resource, name=None)\n",
            "  136994080179024: TensorSpec(shape=(), dtype=tf.resource, name=None)\n",
            "  136994080187280: TensorSpec(shape=(), dtype=tf.resource, name=None)\n",
            "  136994080186896: TensorSpec(shape=(), dtype=tf.resource, name=None)\n",
            "  136994080186512: TensorSpec(shape=(), dtype=tf.resource, name=None)\n",
            "  136994080186704: TensorSpec(shape=(), dtype=tf.resource, name=None)\n",
            "  136994080189392: TensorSpec(shape=(), dtype=tf.resource, name=None)\n",
            "  136994080185360: TensorSpec(shape=(), dtype=tf.resource, name=None)\n",
            "  136994080184976: TensorSpec(shape=(), dtype=tf.resource, name=None)\n",
            "  136994080184592: TensorSpec(shape=(), dtype=tf.resource, name=None)\n",
            "  136994080184784: TensorSpec(shape=(), dtype=tf.resource, name=None)\n",
            "  136994080189200: TensorSpec(shape=(), dtype=tf.resource, name=None)\n",
            "  136994080183440: TensorSpec(shape=(), dtype=tf.resource, name=None)\n",
            "  136994080183056: TensorSpec(shape=(), dtype=tf.resource, name=None)\n",
            "  136994080182672: TensorSpec(shape=(), dtype=tf.resource, name=None)\n",
            "  136994080182864: TensorSpec(shape=(), dtype=tf.resource, name=None)\n",
            "  136994080187664: TensorSpec(shape=(), dtype=tf.resource, name=None)\n",
            "  136994080181520: TensorSpec(shape=(), dtype=tf.resource, name=None)\n",
            "  136994080181136: TensorSpec(shape=(), dtype=tf.resource, name=None)\n",
            "  136994080180752: TensorSpec(shape=(), dtype=tf.resource, name=None)\n",
            "  136994080180944: TensorSpec(shape=(), dtype=tf.resource, name=None)\n",
            "  136994080185744: TensorSpec(shape=(), dtype=tf.resource, name=None)\n",
            "  136994080179600: TensorSpec(shape=(), dtype=tf.resource, name=None)\n",
            "  136994080178832: TensorSpec(shape=(), dtype=tf.resource, name=None)\n",
            "  136994080180368: TensorSpec(shape=(), dtype=tf.resource, name=None)\n",
            "  136994080179216: TensorSpec(shape=(), dtype=tf.resource, name=None)\n",
            "  136994080181904: TensorSpec(shape=(), dtype=tf.resource, name=None)\n",
            "  136994077770000: TensorSpec(shape=(), dtype=tf.resource, name=None)\n",
            "  136994077771344: TensorSpec(shape=(), dtype=tf.resource, name=None)\n",
            "  136994077771728: TensorSpec(shape=(), dtype=tf.resource, name=None)\n",
            "  136994077771536: TensorSpec(shape=(), dtype=tf.resource, name=None)\n",
            "  136994077770192: TensorSpec(shape=(), dtype=tf.resource, name=None)\n",
            "  136994077772880: TensorSpec(shape=(), dtype=tf.resource, name=None)\n",
            "  136994077773264: TensorSpec(shape=(), dtype=tf.resource, name=None)\n",
            "  136994077773648: TensorSpec(shape=(), dtype=tf.resource, name=None)\n",
            "  136994077773456: TensorSpec(shape=(), dtype=tf.resource, name=None)\n",
            "  136994077770768: TensorSpec(shape=(), dtype=tf.resource, name=None)\n",
            "  136994077774800: TensorSpec(shape=(), dtype=tf.resource, name=None)\n",
            "  136994077775184: TensorSpec(shape=(), dtype=tf.resource, name=None)\n",
            "  136994077775568: TensorSpec(shape=(), dtype=tf.resource, name=None)\n",
            "  136994077775376: TensorSpec(shape=(), dtype=tf.resource, name=None)\n",
            "  136994077770960: TensorSpec(shape=(), dtype=tf.resource, name=None)\n",
            "  136994077776720: TensorSpec(shape=(), dtype=tf.resource, name=None)\n",
            "  136994077777104: TensorSpec(shape=(), dtype=tf.resource, name=None)\n",
            "  136994077777488: TensorSpec(shape=(), dtype=tf.resource, name=None)\n",
            "  136994077777296: TensorSpec(shape=(), dtype=tf.resource, name=None)\n",
            "  136994077772496: TensorSpec(shape=(), dtype=tf.resource, name=None)\n",
            "  136994077778640: TensorSpec(shape=(), dtype=tf.resource, name=None)\n",
            "  136994077779024: TensorSpec(shape=(), dtype=tf.resource, name=None)\n",
            "  136994077779408: TensorSpec(shape=(), dtype=tf.resource, name=None)\n",
            "  136994077779216: TensorSpec(shape=(), dtype=tf.resource, name=None)\n",
            "  136994077774416: TensorSpec(shape=(), dtype=tf.resource, name=None)\n",
            "  136994077780560: TensorSpec(shape=(), dtype=tf.resource, name=None)\n",
            "  136994077780944: TensorSpec(shape=(), dtype=tf.resource, name=None)\n",
            "  136994077781328: TensorSpec(shape=(), dtype=tf.resource, name=None)\n",
            "  136994077781136: TensorSpec(shape=(), dtype=tf.resource, name=None)\n",
            "  136994077776336: TensorSpec(shape=(), dtype=tf.resource, name=None)\n",
            "  136994077782480: TensorSpec(shape=(), dtype=tf.resource, name=None)\n",
            "  136994077782864: TensorSpec(shape=(), dtype=tf.resource, name=None)\n",
            "  136994077783248: TensorSpec(shape=(), dtype=tf.resource, name=None)\n",
            "  136994077783056: TensorSpec(shape=(), dtype=tf.resource, name=None)\n",
            "  136994077778256: TensorSpec(shape=(), dtype=tf.resource, name=None)\n",
            "  136994077784400: TensorSpec(shape=(), dtype=tf.resource, name=None)\n",
            "  136994077784784: TensorSpec(shape=(), dtype=tf.resource, name=None)\n",
            "  136994077785168: TensorSpec(shape=(), dtype=tf.resource, name=None)\n",
            "  136994077784976: TensorSpec(shape=(), dtype=tf.resource, name=None)\n",
            "  136994077780176: TensorSpec(shape=(), dtype=tf.resource, name=None)\n",
            "  136994077783632: TensorSpec(shape=(), dtype=tf.resource, name=None)\n",
            "  136994078998800: TensorSpec(shape=(), dtype=tf.resource, name=None)\n",
            "  136994078999568: TensorSpec(shape=(), dtype=tf.resource, name=None)\n",
            "  136994077785936: TensorSpec(shape=(), dtype=tf.resource, name=None)\n",
            "  136994077782096: TensorSpec(shape=(), dtype=tf.resource, name=None)\n",
            "  136994079000720: TensorSpec(shape=(), dtype=tf.resource, name=None)\n",
            "  136994079001104: TensorSpec(shape=(), dtype=tf.resource, name=None)\n",
            "  136994079001488: TensorSpec(shape=(), dtype=tf.resource, name=None)\n",
            "  136994079001296: TensorSpec(shape=(), dtype=tf.resource, name=None)\n",
            "  136994078999376: TensorSpec(shape=(), dtype=tf.resource, name=None)\n",
            "  136994079002640: TensorSpec(shape=(), dtype=tf.resource, name=None)\n",
            "  136994079003024: TensorSpec(shape=(), dtype=tf.resource, name=None)\n",
            "  136994079003408: TensorSpec(shape=(), dtype=tf.resource, name=None)\n",
            "  136994079003216: TensorSpec(shape=(), dtype=tf.resource, name=None)\n",
            "  136994078998608: TensorSpec(shape=(), dtype=tf.resource, name=None)\n",
            "  136994079004560: TensorSpec(shape=(), dtype=tf.resource, name=None)\n",
            "  136994079004944: TensorSpec(shape=(), dtype=tf.resource, name=None)\n",
            "  136994079005328: TensorSpec(shape=(), dtype=tf.resource, name=None)\n",
            "  136994079005136: TensorSpec(shape=(), dtype=tf.resource, name=None)\n",
            "  136994079000336: TensorSpec(shape=(), dtype=tf.resource, name=None)\n",
            "  136994079006480: TensorSpec(shape=(), dtype=tf.resource, name=None)\n",
            "  136994079006864: TensorSpec(shape=(), dtype=tf.resource, name=None)\n",
            "  136994079007248: TensorSpec(shape=(), dtype=tf.resource, name=None)\n",
            "  136994079007056: TensorSpec(shape=(), dtype=tf.resource, name=None)\n",
            "  136994079002256: TensorSpec(shape=(), dtype=tf.resource, name=None)\n",
            "  136994079008400: TensorSpec(shape=(), dtype=tf.resource, name=None)\n",
            "  136994079008784: TensorSpec(shape=(), dtype=tf.resource, name=None)\n",
            "  136994079009168: TensorSpec(shape=(), dtype=tf.resource, name=None)\n",
            "  136994079008976: TensorSpec(shape=(), dtype=tf.resource, name=None)\n",
            "  136994079004176: TensorSpec(shape=(), dtype=tf.resource, name=None)\n",
            "  136994079010320: TensorSpec(shape=(), dtype=tf.resource, name=None)\n",
            "  136994079010704: TensorSpec(shape=(), dtype=tf.resource, name=None)\n",
            "  136994079011088: TensorSpec(shape=(), dtype=tf.resource, name=None)\n",
            "  136994079010896: TensorSpec(shape=(), dtype=tf.resource, name=None)\n",
            "  136994079006096: TensorSpec(shape=(), dtype=tf.resource, name=None)\n",
            "  136994079012240: TensorSpec(shape=(), dtype=tf.resource, name=None)\n",
            "  136994079012624: TensorSpec(shape=(), dtype=tf.resource, name=None)\n",
            "  136994079013008: TensorSpec(shape=(), dtype=tf.resource, name=None)\n",
            "  136994079012816: TensorSpec(shape=(), dtype=tf.resource, name=None)\n",
            "  136994079008016: TensorSpec(shape=(), dtype=tf.resource, name=None)\n",
            "  136994079014160: TensorSpec(shape=(), dtype=tf.resource, name=None)\n",
            "  136994079014736: TensorSpec(shape=(), dtype=tf.resource, name=None)\n",
            "  136994079013392: TensorSpec(shape=(), dtype=tf.resource, name=None)\n",
            "  136994079014544: TensorSpec(shape=(), dtype=tf.resource, name=None)\n",
            "  136994079011856: TensorSpec(shape=(), dtype=tf.resource, name=None)\n",
            "  136994078523664: TensorSpec(shape=(), dtype=tf.resource, name=None)\n",
            "  136994078525008: TensorSpec(shape=(), dtype=tf.resource, name=None)\n",
            "  136994078525392: TensorSpec(shape=(), dtype=tf.resource, name=None)\n",
            "  136994078525200: TensorSpec(shape=(), dtype=tf.resource, name=None)\n",
            "  136994078524624: TensorSpec(shape=(), dtype=tf.resource, name=None)\n",
            "  136994078526544: TensorSpec(shape=(), dtype=tf.resource, name=None)\n",
            "  136994078526928: TensorSpec(shape=(), dtype=tf.resource, name=None)\n",
            "  136994078527312: TensorSpec(shape=(), dtype=tf.resource, name=None)\n",
            "  136994078527120: TensorSpec(shape=(), dtype=tf.resource, name=None)\n",
            "  136994078523856: TensorSpec(shape=(), dtype=tf.resource, name=None)\n",
            "  136994078528464: TensorSpec(shape=(), dtype=tf.resource, name=None)\n",
            "  136994078528848: TensorSpec(shape=(), dtype=tf.resource, name=None)\n",
            "  136994078529232: TensorSpec(shape=(), dtype=tf.resource, name=None)\n",
            "  136994078529040: TensorSpec(shape=(), dtype=tf.resource, name=None)\n",
            "  136994078524048: TensorSpec(shape=(), dtype=tf.resource, name=None)\n",
            "  136994078530384: TensorSpec(shape=(), dtype=tf.resource, name=None)\n",
            "  136994078530768: TensorSpec(shape=(), dtype=tf.resource, name=None)\n",
            "  136994078531152: TensorSpec(shape=(), dtype=tf.resource, name=None)\n",
            "  136994078530960: TensorSpec(shape=(), dtype=tf.resource, name=None)\n",
            "  136994078526160: TensorSpec(shape=(), dtype=tf.resource, name=None)\n",
            "  136994078532304: TensorSpec(shape=(), dtype=tf.resource, name=None)\n",
            "  136994078532688: TensorSpec(shape=(), dtype=tf.resource, name=None)\n",
            "  136994078533072: TensorSpec(shape=(), dtype=tf.resource, name=None)\n",
            "  136994078532880: TensorSpec(shape=(), dtype=tf.resource, name=None)\n",
            "  136994078528080: TensorSpec(shape=(), dtype=tf.resource, name=None)\n",
            "  136994078534224: TensorSpec(shape=(), dtype=tf.resource, name=None)\n",
            "  136994078534608: TensorSpec(shape=(), dtype=tf.resource, name=None)\n",
            "  136994078534992: TensorSpec(shape=(), dtype=tf.resource, name=None)\n",
            "  136994078534800: TensorSpec(shape=(), dtype=tf.resource, name=None)\n",
            "  136994078530000: TensorSpec(shape=(), dtype=tf.resource, name=None)\n",
            "  136994078536144: TensorSpec(shape=(), dtype=tf.resource, name=None)\n",
            "  136994078536528: TensorSpec(shape=(), dtype=tf.resource, name=None)\n",
            "  136994078536912: TensorSpec(shape=(), dtype=tf.resource, name=None)\n",
            "  136994078536720: TensorSpec(shape=(), dtype=tf.resource, name=None)\n",
            "  136994078531920: TensorSpec(shape=(), dtype=tf.resource, name=None)\n",
            "  136994078538064: TensorSpec(shape=(), dtype=tf.resource, name=None)\n",
            "  136994078538448: TensorSpec(shape=(), dtype=tf.resource, name=None)\n",
            "  136994078538832: TensorSpec(shape=(), dtype=tf.resource, name=None)\n",
            "  136994078538640: TensorSpec(shape=(), dtype=tf.resource, name=None)\n",
            "  136994078533840: TensorSpec(shape=(), dtype=tf.resource, name=None)\n",
            "  136994078537296: TensorSpec(shape=(), dtype=tf.resource, name=None)\n",
            "  136994144830096: TensorSpec(shape=(), dtype=tf.resource, name=None)\n",
            "  136994144829520: TensorSpec(shape=(), dtype=tf.resource, name=None)\n",
            "  136994078539600: TensorSpec(shape=(), dtype=tf.resource, name=None)\n",
            "  136994078535760: TensorSpec(shape=(), dtype=tf.resource, name=None)\n",
            "  136994144831632: TensorSpec(shape=(), dtype=tf.resource, name=None)\n",
            "  136994144832016: TensorSpec(shape=(), dtype=tf.resource, name=None)\n",
            "  136994144832400: TensorSpec(shape=(), dtype=tf.resource, name=None)\n",
            "  136994144832208: TensorSpec(shape=(), dtype=tf.resource, name=None)\n",
            "  136994144829712: TensorSpec(shape=(), dtype=tf.resource, name=None)\n",
            "  136994144833552: TensorSpec(shape=(), dtype=tf.resource, name=None)\n",
            "  136994144833936: TensorSpec(shape=(), dtype=tf.resource, name=None)\n",
            "  136994144834320: TensorSpec(shape=(), dtype=tf.resource, name=None)\n",
            "  136994144834128: TensorSpec(shape=(), dtype=tf.resource, name=None)\n",
            "  136994144830288: TensorSpec(shape=(), dtype=tf.resource, name=None)\n",
            "  136994144835472: TensorSpec(shape=(), dtype=tf.resource, name=None)\n",
            "  136994144835856: TensorSpec(shape=(), dtype=tf.resource, name=None)\n",
            "  136994144836240: TensorSpec(shape=(), dtype=tf.resource, name=None)\n",
            "  136994144836048: TensorSpec(shape=(), dtype=tf.resource, name=None)\n",
            "  136994144831248: TensorSpec(shape=(), dtype=tf.resource, name=None)\n",
            "  136994144837392: TensorSpec(shape=(), dtype=tf.resource, name=None)\n",
            "  136994144837776: TensorSpec(shape=(), dtype=tf.resource, name=None)\n",
            "  136994144838160: TensorSpec(shape=(), dtype=tf.resource, name=None)\n",
            "  136994144837968: TensorSpec(shape=(), dtype=tf.resource, name=None)\n",
            "  136994144833168: TensorSpec(shape=(), dtype=tf.resource, name=None)\n",
            "  136994144839312: TensorSpec(shape=(), dtype=tf.resource, name=None)\n",
            "  136994144839696: TensorSpec(shape=(), dtype=tf.resource, name=None)\n",
            "  136994144840080: TensorSpec(shape=(), dtype=tf.resource, name=None)\n",
            "  136994144839888: TensorSpec(shape=(), dtype=tf.resource, name=None)\n",
            "  136994144835088: TensorSpec(shape=(), dtype=tf.resource, name=None)\n",
            "  136994144841232: TensorSpec(shape=(), dtype=tf.resource, name=None)\n",
            "  136994144841616: TensorSpec(shape=(), dtype=tf.resource, name=None)\n",
            "  136994144842000: TensorSpec(shape=(), dtype=tf.resource, name=None)\n",
            "  136994144841808: TensorSpec(shape=(), dtype=tf.resource, name=None)\n",
            "  136994144837008: TensorSpec(shape=(), dtype=tf.resource, name=None)\n",
            "  136994144843152: TensorSpec(shape=(), dtype=tf.resource, name=None)\n",
            "  136994144843536: TensorSpec(shape=(), dtype=tf.resource, name=None)\n",
            "  136994144843920: TensorSpec(shape=(), dtype=tf.resource, name=None)\n",
            "  136994144843728: TensorSpec(shape=(), dtype=tf.resource, name=None)\n",
            "  136994144838928: TensorSpec(shape=(), dtype=tf.resource, name=None)\n",
            "  136994144845072: TensorSpec(shape=(), dtype=tf.resource, name=None)\n",
            "  136994144845648: TensorSpec(shape=(), dtype=tf.resource, name=None)\n",
            "  136994144844304: TensorSpec(shape=(), dtype=tf.resource, name=None)\n",
            "  136994144845456: TensorSpec(shape=(), dtype=tf.resource, name=None)\n",
            "  136994144842768: TensorSpec(shape=(), dtype=tf.resource, name=None)\n",
            "  136994145157392: TensorSpec(shape=(), dtype=tf.resource, name=None)\n",
            "  136994145158736: TensorSpec(shape=(), dtype=tf.resource, name=None)\n",
            "  136994145159120: TensorSpec(shape=(), dtype=tf.resource, name=None)\n",
            "  136994145158928: TensorSpec(shape=(), dtype=tf.resource, name=None)\n",
            "  136994145157584: TensorSpec(shape=(), dtype=tf.resource, name=None)\n",
            "  136994145160272: TensorSpec(shape=(), dtype=tf.resource, name=None)\n",
            "  136994145160656: TensorSpec(shape=(), dtype=tf.resource, name=None)\n",
            "  136994145161040: TensorSpec(shape=(), dtype=tf.resource, name=None)\n",
            "  136994145160848: TensorSpec(shape=(), dtype=tf.resource, name=None)\n",
            "  136994145158160: TensorSpec(shape=(), dtype=tf.resource, name=None)\n",
            "  136994145162192: TensorSpec(shape=(), dtype=tf.resource, name=None)\n",
            "  136994145162576: TensorSpec(shape=(), dtype=tf.resource, name=None)\n",
            "  136994145162960: TensorSpec(shape=(), dtype=tf.resource, name=None)\n",
            "  136994145162768: TensorSpec(shape=(), dtype=tf.resource, name=None)\n",
            "  136994145158352: TensorSpec(shape=(), dtype=tf.resource, name=None)\n",
            "  136994145164112: TensorSpec(shape=(), dtype=tf.resource, name=None)\n",
            "  136994145164496: TensorSpec(shape=(), dtype=tf.resource, name=None)\n",
            "  136994145164880: TensorSpec(shape=(), dtype=tf.resource, name=None)\n",
            "  136994145164688: TensorSpec(shape=(), dtype=tf.resource, name=None)\n",
            "  136994145159888: TensorSpec(shape=(), dtype=tf.resource, name=None)\n",
            "  136994145166032: TensorSpec(shape=(), dtype=tf.resource, name=None)\n",
            "  136994145166416: TensorSpec(shape=(), dtype=tf.resource, name=None)\n",
            "  136994145166800: TensorSpec(shape=(), dtype=tf.resource, name=None)\n",
            "  136994145166608: TensorSpec(shape=(), dtype=tf.resource, name=None)\n",
            "  136994145161808: TensorSpec(shape=(), dtype=tf.resource, name=None)\n",
            "  136994145167952: TensorSpec(shape=(), dtype=tf.resource, name=None)\n",
            "  136994145168336: TensorSpec(shape=(), dtype=tf.resource, name=None)\n",
            "  136994145168720: TensorSpec(shape=(), dtype=tf.resource, name=None)\n",
            "  136994145168528: TensorSpec(shape=(), dtype=tf.resource, name=None)\n",
            "  136994145163728: TensorSpec(shape=(), dtype=tf.resource, name=None)\n",
            "  136994145169872: TensorSpec(shape=(), dtype=tf.resource, name=None)\n",
            "  136994145170256: TensorSpec(shape=(), dtype=tf.resource, name=None)\n",
            "  136994145170640: TensorSpec(shape=(), dtype=tf.resource, name=None)\n",
            "  136994145170448: TensorSpec(shape=(), dtype=tf.resource, name=None)\n",
            "  136994145165648: TensorSpec(shape=(), dtype=tf.resource, name=None)\n",
            "  136994145171792: TensorSpec(shape=(), dtype=tf.resource, name=None)\n",
            "  136994145172176: TensorSpec(shape=(), dtype=tf.resource, name=None)\n",
            "  136994145172560: TensorSpec(shape=(), dtype=tf.resource, name=None)\n",
            "  136994145172368: TensorSpec(shape=(), dtype=tf.resource, name=None)\n",
            "  136994145167568: TensorSpec(shape=(), dtype=tf.resource, name=None)\n",
            "  136994145171024: TensorSpec(shape=(), dtype=tf.resource, name=None)\n",
            "  136994145517840: TensorSpec(shape=(), dtype=tf.resource, name=None)\n",
            "  136994145518608: TensorSpec(shape=(), dtype=tf.resource, name=None)\n",
            "  136994145173328: TensorSpec(shape=(), dtype=tf.resource, name=None)\n",
            "  136994145169488: TensorSpec(shape=(), dtype=tf.resource, name=None)\n",
            "  136994145519760: TensorSpec(shape=(), dtype=tf.resource, name=None)\n",
            "  136994145520144: TensorSpec(shape=(), dtype=tf.resource, name=None)\n",
            "  136994145520528: TensorSpec(shape=(), dtype=tf.resource, name=None)\n",
            "  136994145520336: TensorSpec(shape=(), dtype=tf.resource, name=None)\n",
            "  136994145518416: TensorSpec(shape=(), dtype=tf.resource, name=None)\n",
            "  136994145521680: TensorSpec(shape=(), dtype=tf.resource, name=None)\n",
            "  136994145522064: TensorSpec(shape=(), dtype=tf.resource, name=None)\n",
            "  136994145522448: TensorSpec(shape=(), dtype=tf.resource, name=None)\n",
            "  136994145522256: TensorSpec(shape=(), dtype=tf.resource, name=None)\n",
            "  136994145517648: TensorSpec(shape=(), dtype=tf.resource, name=None)\n",
            "  136994145523600: TensorSpec(shape=(), dtype=tf.resource, name=None)\n",
            "  136994145524176: TensorSpec(shape=(), dtype=tf.resource, name=None)\n"
          ]
        }
      ],
      "source": [
        "# Save model\n",
        "model.save('/content/drive/MyDrive/PLP Resources/recyclenet_model.keras')\n",
        "\n",
        "saved_model = tf.keras.models.load_model('/content/drive/MyDrive/PLP Resources/recyclenet_model.keras')\n",
        "\n",
        "# Convert to TFLite\n",
        "converter = tf.lite.TFLiteConverter.from_keras_model(saved_model)\n",
        "tflite_model = converter.convert()\n",
        "\n",
        "# Save TFLite model\n",
        "with open('/content/drive/MyDrive/PLP Resources/recyclenet_model.tflite', 'wb') as f:\n",
        "    f.write(tflite_model)"
      ]
    },
    {
      "cell_type": "code",
      "execution_count": null,
      "metadata": {
        "colab": {
          "base_uri": "https://localhost:8080/"
        },
        "id": "pjruyUHNXown",
        "outputId": "10e16846-74b6-4459-8c74-bc601bb54332"
      },
      "outputs": [
        {
          "name": "stdout",
          "output_type": "stream",
          "text": [
            "Predicted Class: cardboard 1\n"
          ]
        }
      ],
      "source": [
        "interpreter = tf.lite.Interpreter(model_path='/content/drive/MyDrive/PLP Resources/recyclenet_model.tflite')\n",
        "interpreter.allocate_tensors()\n",
        "\n",
        "input_details = interpreter.get_input_details()\n",
        "output_details = interpreter.get_output_details()\n",
        "\n",
        "# Load and preprocess one test image\n",
        "import cv2\n",
        "img = cv2.imread('/content/drive/MyDrive/PLP Resources/archive (8)/garbage classification/Garbage classification/plastic/plastic1.jpg')\n",
        "img = cv2.resize(img, IMG_SIZE)\n",
        "input_data = np.expand_dims(img / 255.0, axis=0).astype(np.float32)\n",
        "\n",
        "# Run inference\n",
        "interpreter.set_tensor(input_details[0]['index'], input_data)\n",
        "interpreter.invoke()\n",
        "\n",
        "output = interpreter.get_tensor(output_details[0]['index'])\n",
        "print(\"Predicted Class:\", val_gen.class_indices.keys().__iter__().__next__(), np.argmax(output))"
      ]
    },
    {
      "cell_type": "code",
      "execution_count": null,
      "metadata": {
        "id": "w9a4qC0_Sxon"
      },
      "outputs": [],
      "source": [
        "X_train = []\n",
        "y_train = []\n",
        "labels = [\"cardboard\" , \"glass\" , \"metal\" , \"paper\" , \"plastic\" , \"trash\"]\n",
        "image_size = 224\n",
        "\n",
        "for label in labels :\n",
        "    folderPath = os.path.join(\"/content/drive/MyDrive/PLP Resources/archive (8)/garbage classification/Garbage classification/\" , label)\n",
        "    for path in os.listdir(folderPath) :\n",
        "        image_path = os.path.join(folderPath , path)\n",
        "        image = cv2.imread(image_path)\n",
        "        image = cv2.resize(image , (image_size , image_size))\n",
        "        X_train.append(image)\n",
        "        y_train.append(label)"
      ]
    },
    {
      "cell_type": "code",
      "execution_count": null,
      "metadata": {
        "id": "b6rex9Wub5EF"
      },
      "outputs": [],
      "source": [
        "X_test = []\n",
        "y_test = []\n",
        "\n",
        "for label in labels :\n",
        "    folderPath = os.path.join(\"/content/drive/MyDrive/PLP Resources/archive (8)/garbage classification/Garbage classification/\" , label)\n",
        "    for path in os.listdir(folderPath) :\n",
        "        image_path = os.path.join(folderPath , path)\n",
        "        image = cv2.imread(image_path)\n",
        "        image = cv2.resize(image , (image_size , image_size))\n",
        "        X_test.append(image)\n",
        "        y_test.append(label)"
      ]
    },
    {
      "cell_type": "code",
      "execution_count": null,
      "metadata": {
        "id": "6eZdF2_jbvlP"
      },
      "outputs": [],
      "source": [
        "X_train = np.array(X_train)\n",
        "X_test = np.array(X_test)\n",
        "y_train = np.array(y_train)\n",
        "y_test = np.array(y_test)"
      ]
    },
    {
      "cell_type": "code",
      "execution_count": null,
      "metadata": {
        "id": "fJBMLXQ_bwgI"
      },
      "outputs": [],
      "source": [
        "X_train , y_train = shuffle(X_train , y_train , random_state = 42)"
      ]
    },
    {
      "cell_type": "code",
      "execution_count": null,
      "metadata": {
        "id": "dXT_QUQ2cB0a"
      },
      "outputs": [],
      "source": [
        "label_encoder = LabelEncoder()\n",
        "y_train = label_encoder.fit_transform(y_train)\n",
        "y_test = label_encoder.transform(y_test)"
      ]
    },
    {
      "cell_type": "code",
      "execution_count": null,
      "metadata": {
        "id": "suyyultfcKdR"
      },
      "outputs": [],
      "source": [
        "y_train = to_categorical(y_train , num_classes = 6)\n",
        "y_test = to_categorical(y_test , num_classes = 6)"
      ]
    },
    {
      "cell_type": "code",
      "execution_count": null,
      "metadata": {
        "colab": {
          "base_uri": "https://localhost:8080/"
        },
        "id": "z-DOIvK7cQMU",
        "outputId": "ae624b0e-2661-4974-aef1-a4395fe792e1"
      },
      "outputs": [
        {
          "name": "stdout",
          "output_type": "stream",
          "text": [
            " X_train : (2528, 224, 224, 3) \n",
            " X_test : (2528, 224, 224, 3) \n",
            " y_train : (2528, 6) \n",
            " y_test : (2528, 6) \n"
          ]
        }
      ],
      "source": [
        "print(f\" X_train : {X_train.shape} \")\n",
        "print(f\" X_test : {X_test.shape} \")\n",
        "print(f\" y_train : {y_train.shape} \")\n",
        "print(f\" y_test : {y_test.shape} \")"
      ]
    },
    {
      "cell_type": "code",
      "execution_count": null,
      "metadata": {
        "id": "vvXdlQyvcRLO"
      },
      "outputs": [],
      "source": [
        "datagen = ImageDataGenerator(validation_split = 0.2 ,\n",
        "                             rescale = 1.0/255.00 ,\n",
        "                             horizontal_flip = True ,\n",
        "                             width_shift_range = 0.2 ,\n",
        "                             height_shift_range = 0.2 ,\n",
        "                             zoom_range = 90)"
      ]
    },
    {
      "cell_type": "code",
      "execution_count": null,
      "metadata": {
        "id": "TmLGoQR1cV8J"
      },
      "outputs": [],
      "source": [
        "datagen.fit(X_train)"
      ]
    },
    {
      "cell_type": "code",
      "execution_count": null,
      "metadata": {
        "id": "bWunbaBbcZ48"
      },
      "outputs": [],
      "source": [
        "model = Sequential()\n",
        "\n",
        "model.add(Conv2D(filters = 16 , kernel_size = (3,3) , input_shape = (224,224,3) ,\n",
        "                padding = \"same\" , activation = \"relu\"))\n",
        "model.add(MaxPooling2D(pool_size = (2,2)))\n",
        "model.add(Dropout(0.2))\n",
        "\n",
        "model.add(Conv2D(filters = 32 , kernel_size = (3,3) , activation = \"relu\"))\n",
        "model.add(MaxPooling2D(pool_size = (2,2) , strides = (2,2)))\n",
        "\n",
        "learning_rate = 0.001\n",
        "optimizer = Adam(learning_rate = learning_rate)\n",
        "\n",
        "model.add(Flatten())\n",
        "model.add(Dense(512 , activation = \"relu\"))\n",
        "model.add(Dense(6 , activation = \"softmax\"))\n",
        "\n",
        "model.compile(optimizer = optimizer ,loss = \"categorical_crossentropy\" , metrics = [\"accuracy\"])"
      ]
    },
    {
      "cell_type": "code",
      "execution_count": null,
      "metadata": {
        "id": "i86ppkYqcjCV"
      },
      "outputs": [],
      "source": [
        "early_stopping = EarlyStopping(monitor = \"val_loss\" , patience = 10 , restore_best_weights = True , verbose = 1 )"
      ]
    },
    {
      "cell_type": "code",
      "execution_count": 14,
      "metadata": {
        "colab": {
          "base_uri": "https://localhost:8080/"
        },
        "id": "fOzEoi4GcoFx",
        "outputId": "31f9364f-47f0-4db0-8189-67bc003ee3f8"
      },
      "outputs": [
        {
          "output_type": "stream",
          "name": "stdout",
          "text": [
            "Epoch 1/60\n",
            "\u001b[1m40/40\u001b[0m \u001b[32m━━━━━━━━━━━━━━━━━━━━\u001b[0m\u001b[37m\u001b[0m \u001b[1m195s\u001b[0m 5s/step - accuracy: 0.1963 - loss: 7854.8965 - val_accuracy: 0.2140 - val_loss: 1.7844\n",
            "Epoch 2/60\n",
            "\u001b[1m40/40\u001b[0m \u001b[32m━━━━━━━━━━━━━━━━━━━━\u001b[0m\u001b[37m\u001b[0m \u001b[1m195s\u001b[0m 5s/step - accuracy: 0.2148 - loss: 1.9453 - val_accuracy: 0.2366 - val_loss: 1.7632\n",
            "Epoch 3/60\n",
            "\u001b[1m40/40\u001b[0m \u001b[32m━━━━━━━━━━━━━━━━━━━━\u001b[0m\u001b[37m\u001b[0m \u001b[1m203s\u001b[0m 5s/step - accuracy: 0.2758 - loss: 1.7056 - val_accuracy: 0.2520 - val_loss: 1.7265\n",
            "Epoch 4/60\n",
            "\u001b[1m40/40\u001b[0m \u001b[32m━━━━━━━━━━━━━━━━━━━━\u001b[0m\u001b[37m\u001b[0m \u001b[1m206s\u001b[0m 5s/step - accuracy: 0.3256 - loss: 1.6254 - val_accuracy: 0.2773 - val_loss: 1.6829\n",
            "Epoch 5/60\n",
            "\u001b[1m40/40\u001b[0m \u001b[32m━━━━━━━━━━━━━━━━━━━━\u001b[0m\u001b[37m\u001b[0m \u001b[1m192s\u001b[0m 5s/step - accuracy: 0.3516 - loss: 1.5586 - val_accuracy: 0.3228 - val_loss: 1.5966\n",
            "Epoch 6/60\n",
            "\u001b[1m40/40\u001b[0m \u001b[32m━━━━━━━━━━━━━━━━━━━━\u001b[0m\u001b[37m\u001b[0m \u001b[1m179s\u001b[0m 5s/step - accuracy: 0.3820 - loss: 1.4733 - val_accuracy: 0.3845 - val_loss: 1.4637\n",
            "Epoch 7/60\n",
            "\u001b[1m40/40\u001b[0m \u001b[32m━━━━━━━━━━━━━━━━━━━━\u001b[0m\u001b[37m\u001b[0m \u001b[1m190s\u001b[0m 5s/step - accuracy: 0.4365 - loss: 1.3588 - val_accuracy: 0.4023 - val_loss: 1.4356\n",
            "Epoch 8/60\n",
            "\u001b[1m40/40\u001b[0m \u001b[32m━━━━━━━━━━━━━━━━━━━━\u001b[0m\u001b[37m\u001b[0m \u001b[1m189s\u001b[0m 4s/step - accuracy: 0.4865 - loss: 1.2737 - val_accuracy: 0.4537 - val_loss: 1.3184\n",
            "Epoch 9/60\n",
            "\u001b[1m40/40\u001b[0m \u001b[32m━━━━━━━━━━━━━━━━━━━━\u001b[0m\u001b[37m\u001b[0m \u001b[1m207s\u001b[0m 5s/step - accuracy: 0.5049 - loss: 1.2013 - val_accuracy: 0.4699 - val_loss: 1.2854\n",
            "Epoch 10/60\n",
            "\u001b[1m40/40\u001b[0m \u001b[32m━━━━━━━━━━━━━━━━━━━━\u001b[0m\u001b[37m\u001b[0m \u001b[1m205s\u001b[0m 5s/step - accuracy: 0.5486 - loss: 1.0999 - val_accuracy: 0.4901 - val_loss: 1.2182\n",
            "Epoch 11/60\n",
            "\u001b[1m40/40\u001b[0m \u001b[32m━━━━━━━━━━━━━━━━━━━━\u001b[0m\u001b[37m\u001b[0m \u001b[1m197s\u001b[0m 5s/step - accuracy: 0.5667 - loss: 1.0754 - val_accuracy: 0.4913 - val_loss: 1.2370\n",
            "Epoch 12/60\n",
            "\u001b[1m40/40\u001b[0m \u001b[32m━━━━━━━━━━━━━━━━━━━━\u001b[0m\u001b[37m\u001b[0m \u001b[1m206s\u001b[0m 5s/step - accuracy: 0.5846 - loss: 1.0689 - val_accuracy: 0.5451 - val_loss: 1.0905\n",
            "Epoch 13/60\n",
            "\u001b[1m40/40\u001b[0m \u001b[32m━━━━━━━━━━━━━━━━━━━━\u001b[0m\u001b[37m\u001b[0m \u001b[1m202s\u001b[0m 5s/step - accuracy: 0.6452 - loss: 0.9041 - val_accuracy: 0.5396 - val_loss: 1.1074\n",
            "Epoch 14/60\n",
            "\u001b[1m40/40\u001b[0m \u001b[32m━━━━━━━━━━━━━━━━━━━━\u001b[0m\u001b[37m\u001b[0m \u001b[1m184s\u001b[0m 5s/step - accuracy: 0.6126 - loss: 0.9366 - val_accuracy: 0.5902 - val_loss: 0.9819\n",
            "Epoch 15/60\n",
            "\u001b[1m40/40\u001b[0m \u001b[32m━━━━━━━━━━━━━━━━━━━━\u001b[0m\u001b[37m\u001b[0m \u001b[1m183s\u001b[0m 5s/step - accuracy: 0.6732 - loss: 0.8233 - val_accuracy: 0.6206 - val_loss: 0.9147\n",
            "Epoch 16/60\n",
            "\u001b[1m40/40\u001b[0m \u001b[32m━━━━━━━━━━━━━━━━━━━━\u001b[0m\u001b[37m\u001b[0m \u001b[1m202s\u001b[0m 5s/step - accuracy: 0.6852 - loss: 0.7948 - val_accuracy: 0.6618 - val_loss: 0.8451\n",
            "Epoch 17/60\n",
            "\u001b[1m40/40\u001b[0m \u001b[32m━━━━━━━━━━━━━━━━━━━━\u001b[0m\u001b[37m\u001b[0m \u001b[1m202s\u001b[0m 5s/step - accuracy: 0.6831 - loss: 0.8452 - val_accuracy: 0.6203 - val_loss: 0.9401\n",
            "Epoch 18/60\n",
            "\u001b[1m40/40\u001b[0m \u001b[32m━━━━━━━━━━━━━━━━━━━━\u001b[0m\u001b[37m\u001b[0m \u001b[1m184s\u001b[0m 5s/step - accuracy: 0.6768 - loss: 0.8562 - val_accuracy: 0.6116 - val_loss: 0.9762\n",
            "Epoch 19/60\n",
            "\u001b[1m40/40\u001b[0m \u001b[32m━━━━━━━━━━━━━━━━━━━━\u001b[0m\u001b[37m\u001b[0m \u001b[1m185s\u001b[0m 5s/step - accuracy: 0.6782 - loss: 0.8524 - val_accuracy: 0.6507 - val_loss: 0.8628\n",
            "Epoch 20/60\n",
            "\u001b[1m40/40\u001b[0m \u001b[32m━━━━━━━━━━━━━━━━━━━━\u001b[0m\u001b[37m\u001b[0m \u001b[1m202s\u001b[0m 5s/step - accuracy: 0.7154 - loss: 0.7883 - val_accuracy: 0.6123 - val_loss: 0.9894\n",
            "Epoch 21/60\n",
            "\u001b[1m40/40\u001b[0m \u001b[32m━━━━━━━━━━━━━━━━━━━━\u001b[0m\u001b[37m\u001b[0m \u001b[1m200s\u001b[0m 5s/step - accuracy: 0.7289 - loss: 0.7663 - val_accuracy: 0.6661 - val_loss: 0.8528\n",
            "Epoch 22/60\n",
            "\u001b[1m40/40\u001b[0m \u001b[32m━━━━━━━━━━━━━━━━━━━━\u001b[0m\u001b[37m\u001b[0m \u001b[1m196s\u001b[0m 4s/step - accuracy: 0.7421 - loss: 0.7113 - val_accuracy: 0.6962 - val_loss: 0.7811\n",
            "Epoch 23/60\n",
            "\u001b[1m40/40\u001b[0m \u001b[32m━━━━━━━━━━━━━━━━━━━━\u001b[0m\u001b[37m\u001b[0m \u001b[1m213s\u001b[0m 5s/step - accuracy: 0.7329 - loss: 0.6967 - val_accuracy: 0.6859 - val_loss: 0.7878\n",
            "Epoch 24/60\n",
            "\u001b[1m40/40\u001b[0m \u001b[32m━━━━━━━━━━━━━━━━━━━━\u001b[0m\u001b[37m\u001b[0m \u001b[1m199s\u001b[0m 5s/step - accuracy: 0.7489 - loss: 0.7935 - val_accuracy: 0.6578 - val_loss: 0.8509\n",
            "Epoch 25/60\n",
            "\u001b[1m40/40\u001b[0m \u001b[32m━━━━━━━━━━━━━━━━━━━━\u001b[0m\u001b[37m\u001b[0m \u001b[1m181s\u001b[0m 5s/step - accuracy: 0.7449 - loss: 0.7160 - val_accuracy: 0.7100 - val_loss: 0.7130\n",
            "Epoch 26/60\n",
            "\u001b[1m40/40\u001b[0m \u001b[32m━━━━━━━━━━━━━━━━━━━━\u001b[0m\u001b[37m\u001b[0m \u001b[1m207s\u001b[0m 5s/step - accuracy: 0.7586 - loss: 0.6567 - val_accuracy: 0.7433 - val_loss: 0.6447\n",
            "Epoch 27/60\n",
            "\u001b[1m40/40\u001b[0m \u001b[32m━━━━━━━━━━━━━━━━━━━━\u001b[0m\u001b[37m\u001b[0m \u001b[1m196s\u001b[0m 5s/step - accuracy: 0.7761 - loss: 0.6316 - val_accuracy: 0.7492 - val_loss: 0.6301\n",
            "Epoch 28/60\n",
            "\u001b[1m40/40\u001b[0m \u001b[32m━━━━━━━━━━━━━━━━━━━━\u001b[0m\u001b[37m\u001b[0m \u001b[1m205s\u001b[0m 5s/step - accuracy: 0.7827 - loss: 0.5994 - val_accuracy: 0.7298 - val_loss: 0.6839\n",
            "Epoch 29/60\n",
            "\u001b[1m40/40\u001b[0m \u001b[32m━━━━━━━━━━━━━━━━━━━━\u001b[0m\u001b[37m\u001b[0m \u001b[1m184s\u001b[0m 5s/step - accuracy: 0.7760 - loss: 0.5848 - val_accuracy: 0.7401 - val_loss: 0.6621\n",
            "Epoch 30/60\n",
            "\u001b[1m40/40\u001b[0m \u001b[32m━━━━━━━━━━━━━━━━━━━━\u001b[0m\u001b[37m\u001b[0m \u001b[1m181s\u001b[0m 5s/step - accuracy: 0.7990 - loss: 0.5311 - val_accuracy: 0.7520 - val_loss: 0.6327\n",
            "Epoch 31/60\n",
            "\u001b[1m40/40\u001b[0m \u001b[32m━━━━━━━━━━━━━━━━━━━━\u001b[0m\u001b[37m\u001b[0m \u001b[1m182s\u001b[0m 5s/step - accuracy: 0.8057 - loss: 0.5031 - val_accuracy: 0.7417 - val_loss: 0.6479\n",
            "Epoch 32/60\n",
            "\u001b[1m40/40\u001b[0m \u001b[32m━━━━━━━━━━━━━━━━━━━━\u001b[0m\u001b[37m\u001b[0m \u001b[1m177s\u001b[0m 4s/step - accuracy: 0.8004 - loss: 0.5505 - val_accuracy: 0.7678 - val_loss: 0.5853\n",
            "Epoch 33/60\n",
            "\u001b[1m40/40\u001b[0m \u001b[32m━━━━━━━━━━━━━━━━━━━━\u001b[0m\u001b[37m\u001b[0m \u001b[1m208s\u001b[0m 5s/step - accuracy: 0.8067 - loss: 0.5625 - val_accuracy: 0.7061 - val_loss: 0.7648\n",
            "Epoch 34/60\n",
            "\u001b[1m40/40\u001b[0m \u001b[32m━━━━━━━━━━━━━━━━━━━━\u001b[0m\u001b[37m\u001b[0m \u001b[1m204s\u001b[0m 5s/step - accuracy: 0.7949 - loss: 0.5468 - val_accuracy: 0.7500 - val_loss: 0.6278\n",
            "Epoch 35/60\n",
            "\u001b[1m40/40\u001b[0m \u001b[32m━━━━━━━━━━━━━━━━━━━━\u001b[0m\u001b[37m\u001b[0m \u001b[1m185s\u001b[0m 5s/step - accuracy: 0.7975 - loss: 0.5582 - val_accuracy: 0.7433 - val_loss: 0.6471\n",
            "Epoch 36/60\n",
            "\u001b[1m40/40\u001b[0m \u001b[32m━━━━━━━━━━━━━━━━━━━━\u001b[0m\u001b[37m\u001b[0m \u001b[1m198s\u001b[0m 5s/step - accuracy: 0.8185 - loss: 0.5109 - val_accuracy: 0.7848 - val_loss: 0.5462\n",
            "Epoch 37/60\n",
            "\u001b[1m40/40\u001b[0m \u001b[32m━━━━━━━━━━━━━━━━━━━━\u001b[0m\u001b[37m\u001b[0m \u001b[1m190s\u001b[0m 5s/step - accuracy: 0.8342 - loss: 0.5046 - val_accuracy: 0.7599 - val_loss: 0.6213\n",
            "Epoch 38/60\n",
            "\u001b[1m40/40\u001b[0m \u001b[32m━━━━━━━━━━━━━━━━━━━━\u001b[0m\u001b[37m\u001b[0m \u001b[1m193s\u001b[0m 5s/step - accuracy: 0.8140 - loss: 0.5449 - val_accuracy: 0.8002 - val_loss: 0.5474\n",
            "Epoch 39/60\n",
            "\u001b[1m40/40\u001b[0m \u001b[32m━━━━━━━━━━━━━━━━━━━━\u001b[0m\u001b[37m\u001b[0m \u001b[1m199s\u001b[0m 5s/step - accuracy: 0.8224 - loss: 0.6550 - val_accuracy: 0.7729 - val_loss: 0.6101\n",
            "Epoch 40/60\n",
            "\u001b[1m40/40\u001b[0m \u001b[32m━━━━━━━━━━━━━━━━━━━━\u001b[0m\u001b[37m\u001b[0m \u001b[1m204s\u001b[0m 5s/step - accuracy: 0.8301 - loss: 0.5151 - val_accuracy: 0.7761 - val_loss: 0.5870\n",
            "Epoch 41/60\n",
            "\u001b[1m40/40\u001b[0m \u001b[32m━━━━━━━━━━━━━━━━━━━━\u001b[0m\u001b[37m\u001b[0m \u001b[1m207s\u001b[0m 5s/step - accuracy: 0.8220 - loss: 0.5245 - val_accuracy: 0.7559 - val_loss: 0.6667\n",
            "Epoch 42/60\n",
            "\u001b[1m40/40\u001b[0m \u001b[32m━━━━━━━━━━━━━━━━━━━━\u001b[0m\u001b[37m\u001b[0m \u001b[1m183s\u001b[0m 5s/step - accuracy: 0.8455 - loss: 0.4578 - val_accuracy: 0.8042 - val_loss: 0.5109\n",
            "Epoch 43/60\n",
            "\u001b[1m40/40\u001b[0m \u001b[32m━━━━━━━━━━━━━━━━━━━━\u001b[0m\u001b[37m\u001b[0m \u001b[1m185s\u001b[0m 5s/step - accuracy: 0.8209 - loss: 0.5095 - val_accuracy: 0.8176 - val_loss: 0.5001\n",
            "Epoch 44/60\n",
            "\u001b[1m40/40\u001b[0m \u001b[32m━━━━━━━━━━━━━━━━━━━━\u001b[0m\u001b[37m\u001b[0m \u001b[1m200s\u001b[0m 5s/step - accuracy: 0.8496 - loss: 0.4239 - val_accuracy: 0.8212 - val_loss: 0.4771\n",
            "Epoch 45/60\n",
            "\u001b[1m40/40\u001b[0m \u001b[32m━━━━━━━━━━━━━━━━━━━━\u001b[0m\u001b[37m\u001b[0m \u001b[1m203s\u001b[0m 5s/step - accuracy: 0.8596 - loss: 0.4204 - val_accuracy: 0.8046 - val_loss: 0.5093\n",
            "Epoch 46/60\n",
            "\u001b[1m40/40\u001b[0m \u001b[32m━━━━━━━━━━━━━━━━━━━━\u001b[0m\u001b[37m\u001b[0m \u001b[1m204s\u001b[0m 5s/step - accuracy: 0.8561 - loss: 0.4084 - val_accuracy: 0.8232 - val_loss: 0.4356\n",
            "Epoch 47/60\n",
            "\u001b[1m40/40\u001b[0m \u001b[32m━━━━━━━━━━━━━━━━━━━━\u001b[0m\u001b[37m\u001b[0m \u001b[1m185s\u001b[0m 5s/step - accuracy: 0.8736 - loss: 0.3830 - val_accuracy: 0.8192 - val_loss: 0.4751\n",
            "Epoch 48/60\n",
            "\u001b[1m40/40\u001b[0m \u001b[32m━━━━━━━━━━━━━━━━━━━━\u001b[0m\u001b[37m\u001b[0m \u001b[1m184s\u001b[0m 5s/step - accuracy: 0.8679 - loss: 0.3573 - val_accuracy: 0.8267 - val_loss: 0.4360\n",
            "Epoch 49/60\n",
            "\u001b[1m40/40\u001b[0m \u001b[32m━━━━━━━━━━━━━━━━━━━━\u001b[0m\u001b[37m\u001b[0m \u001b[1m202s\u001b[0m 5s/step - accuracy: 0.8572 - loss: 0.3999 - val_accuracy: 0.8406 - val_loss: 0.3973\n",
            "Epoch 50/60\n",
            "\u001b[1m40/40\u001b[0m \u001b[32m━━━━━━━━━━━━━━━━━━━━\u001b[0m\u001b[37m\u001b[0m \u001b[1m183s\u001b[0m 5s/step - accuracy: 0.8708 - loss: 0.3242 - val_accuracy: 0.8461 - val_loss: 0.3829\n",
            "Epoch 51/60\n",
            "\u001b[1m40/40\u001b[0m \u001b[32m━━━━━━━━━━━━━━━━━━━━\u001b[0m\u001b[37m\u001b[0m \u001b[1m213s\u001b[0m 5s/step - accuracy: 0.8850 - loss: 0.3299 - val_accuracy: 0.8335 - val_loss: 0.4135\n",
            "Epoch 52/60\n",
            "\u001b[1m40/40\u001b[0m \u001b[32m━━━━━━━━━━━━━━━━━━━━\u001b[0m\u001b[37m\u001b[0m \u001b[1m184s\u001b[0m 5s/step - accuracy: 0.8838 - loss: 0.3380 - val_accuracy: 0.8358 - val_loss: 0.4131\n",
            "Epoch 53/60\n",
            "\u001b[1m40/40\u001b[0m \u001b[32m━━━━━━━━━━━━━━━━━━━━\u001b[0m\u001b[37m\u001b[0m \u001b[1m202s\u001b[0m 5s/step - accuracy: 0.8903 - loss: 0.3092 - val_accuracy: 0.8532 - val_loss: 0.3926\n",
            "Epoch 54/60\n",
            "\u001b[1m40/40\u001b[0m \u001b[32m━━━━━━━━━━━━━━━━━━━━\u001b[0m\u001b[37m\u001b[0m \u001b[1m206s\u001b[0m 5s/step - accuracy: 0.8904 - loss: 0.4037 - val_accuracy: 0.8505 - val_loss: 0.3867\n",
            "Epoch 55/60\n",
            "\u001b[1m40/40\u001b[0m \u001b[32m━━━━━━━━━━━━━━━━━━━━\u001b[0m\u001b[37m\u001b[0m \u001b[1m185s\u001b[0m 5s/step - accuracy: 0.8777 - loss: 0.3884 - val_accuracy: 0.8639 - val_loss: 0.3600\n",
            "Epoch 56/60\n",
            "\u001b[1m40/40\u001b[0m \u001b[32m━━━━━━━━━━━━━━━━━━━━\u001b[0m\u001b[37m\u001b[0m \u001b[1m200s\u001b[0m 5s/step - accuracy: 0.8824 - loss: 0.3905 - val_accuracy: 0.8394 - val_loss: 0.4280\n",
            "Epoch 57/60\n",
            "\u001b[1m40/40\u001b[0m \u001b[32m━━━━━━━━━━━━━━━━━━━━\u001b[0m\u001b[37m\u001b[0m \u001b[1m211s\u001b[0m 5s/step - accuracy: 0.8651 - loss: 0.4235 - val_accuracy: 0.8513 - val_loss: 0.3833\n",
            "Epoch 58/60\n",
            "\u001b[1m40/40\u001b[0m \u001b[32m━━━━━━━━━━━━━━━━━━━━\u001b[0m\u001b[37m\u001b[0m \u001b[1m193s\u001b[0m 5s/step - accuracy: 0.8761 - loss: 0.3581 - val_accuracy: 0.8386 - val_loss: 0.4154\n",
            "Epoch 59/60\n",
            "\u001b[1m40/40\u001b[0m \u001b[32m━━━━━━━━━━━━━━━━━━━━\u001b[0m\u001b[37m\u001b[0m \u001b[1m185s\u001b[0m 5s/step - accuracy: 0.8748 - loss: 0.3291 - val_accuracy: 0.8501 - val_loss: 0.4016\n",
            "Epoch 60/60\n",
            "\u001b[1m40/40\u001b[0m \u001b[32m━━━━━━━━━━━━━━━━━━━━\u001b[0m\u001b[37m\u001b[0m \u001b[1m180s\u001b[0m 5s/step - accuracy: 0.8855 - loss: 0.3628 - val_accuracy: 0.8706 - val_loss: 0.3326\n",
            "Restoring model weights from the end of the best epoch: 60.\n"
          ]
        }
      ],
      "source": [
        "history = model.fit(X_train , y_train , epochs = 60 , batch_size = 64 , verbose = 1 ,\n",
        "                   validation_data = (X_test , y_test) , callbacks = early_stopping)"
      ]
    },
    {
      "cell_type": "code",
      "execution_count": 15,
      "metadata": {
        "id": "5m-Rx_EpctLK",
        "colab": {
          "base_uri": "https://localhost:8080/"
        },
        "outputId": "75ac6da3-1cfb-4f32-f439-43bcd272cf83"
      },
      "outputs": [
        {
          "output_type": "stream",
          "name": "stdout",
          "text": [
            "\u001b[1m79/79\u001b[0m \u001b[32m━━━━━━━━━━━━━━━━━━━━\u001b[0m\u001b[37m\u001b[0m \u001b[1m37s\u001b[0m 465ms/step\n"
          ]
        }
      ],
      "source": [
        "y_pred = model.predict(X_test)\n",
        "y_pred = np.argmax(y_pred , axis = 1)\n",
        "y_test = np.argmax(y_test , axis = 1)"
      ]
    },
    {
      "cell_type": "code",
      "execution_count": 16,
      "metadata": {
        "id": "3Zb4E3IRc0N4"
      },
      "outputs": [],
      "source": [
        "labels = [\"cardboard\" , \"glass\" , \"metal\" , \"paper\" , \"plastic\" , \"trash\"]"
      ]
    },
    {
      "cell_type": "code",
      "execution_count": 17,
      "metadata": {
        "id": "rZ00pPimc66y",
        "colab": {
          "base_uri": "https://localhost:8080/"
        },
        "outputId": "0620f5e4-44e0-4577-b382-60908f76eb62"
      },
      "outputs": [
        {
          "output_type": "stream",
          "name": "stdout",
          "text": [
            "              precision    recall  f1-score   support\n",
            "\n",
            "   cardboard       0.84      0.99      0.91       342\n",
            "       glass       0.82      0.98      0.90       420\n",
            "       metal       0.95      1.00      0.98       392\n",
            "       paper       0.79      0.97      0.87       484\n",
            "     plastic       0.99      0.61      0.76       782\n",
            "       trash       0.78      1.00      0.88       108\n",
            "\n",
            "    accuracy                           0.87      2528\n",
            "   macro avg       0.86      0.93      0.88      2528\n",
            "weighted avg       0.89      0.87      0.86      2528\n",
            "\n"
          ]
        }
      ],
      "source": [
        "print(classification_report(y_pred , y_test , target_names = labels))"
      ]
    },
    {
      "cell_type": "code",
      "execution_count": 18,
      "metadata": {
        "id": "Q-W93upFdDLG",
        "colab": {
          "base_uri": "https://localhost:8080/",
          "height": 564
        },
        "outputId": "c62d87ce-11ea-4516-8efe-b8fdee44051b"
      },
      "outputs": [
        {
          "output_type": "display_data",
          "data": {
            "text/plain": [
              "<Figure size 800x600 with 1 Axes>"
            ],
            "image/png": "[encoded data removed]"
          },
          "metadata": {}
        }
      ],
      "source": [
        "plt.figure(figsize = (8,6))\n",
        "sns.lineplot(history.history[\"accuracy\"] , label = \"Train Accuracy\")\n",
        "sns.lineplot(history.history[\"val_accuracy\"] , label = \"Test Accuracy\")\n",
        "plt.xlabel(\"epochs\")\n",
        "plt.ylabel(\"accuracy\")\n",
        "plt.title(\"Train vs Test Accuracy \")\n",
        "plt.legend()\n",
        "plt.show()"
      ]
    },
    {
      "cell_type": "code",
      "execution_count": 19,
      "metadata": {
        "id": "AcREYPVXdIZx"
      },
      "outputs": [],
      "source": [
        "cm = confusion_matrix(y_pred , y_test)\n",
        "cm_df = pd.DataFrame(cm, index = labels , columns = labels)"
      ]
    },
    {
      "cell_type": "code",
      "execution_count": 20,
      "metadata": {
        "id": "Vdhfl0o5dJet",
        "colab": {
          "base_uri": "https://localhost:8080/",
          "height": 540
        },
        "outputId": "5e401626-0c83-4f7e-ad38-6e18ec71f877"
      },
      "outputs": [
        {
          "output_type": "execute_result",
          "data": {
            "text/plain": [
              "<Axes: >"
            ]
          },
          "metadata": {},
          "execution_count": 20
        },
        {
          "output_type": "display_data",
          "data": {
            "text/plain": [
              "<Figure size 1000x600 with 2 Axes>"
            ],
            "image/png": "[encoded data removed]"
          },
          "metadata": {}
        }
      ],
      "source": [
        "plt.figure(figsize = (10,6))\n",
        "sns.heatmap(cm_df , annot = True ,\n",
        "            fmt = \"d\" , linewidths = 0.5 , cmap = \"coolwarm\")"
      ]
    },
    {
      "cell_type": "code",
      "execution_count": 21,
      "metadata": {
        "id": "tPfaAM4GdOGn",
        "colab": {
          "base_uri": "https://localhost:8080/",
          "height": 417
        },
        "outputId": "ec4dc0b5-11bc-4224-8525-832fa8b8a492"
      },
      "outputs": [
        {
          "output_type": "display_data",
          "data": {
            "text/plain": [
              "\u001b[1mModel: \"sequential\"\u001b[0m\n"
            ],
            "text/html": [
              "<pre style=\"white-space:pre;overflow-x:auto;line-height:normal;font-family:Menlo,'DejaVu Sans Mono',consolas,'Courier New',monospace\"><span style=\"font-weight: bold\">Model: \"sequential\"</span>\n",
              "</pre>\n"
            ]
          },
          "metadata": {}
        },
        {
          "output_type": "display_data",
          "data": {
            "text/plain": [
              "┏━━━━━━━━━━━━━━━━━━━━━━━━━━━━━━━━━┳━━━━━━━━━━━━━━━━━━━━━━━━┳━━━━━━━━━━━━━━━┓\n",
              "┃\u001b[1m \u001b[0m\u001b[1mLayer (type)                   \u001b[0m\u001b[1m \u001b[0m┃\u001b[1m \u001b[0m\u001b[1mOutput Shape          \u001b[0m\u001b[1m \u001b[0m┃\u001b[1m \u001b[0m\u001b[1m      Param #\u001b[0m\u001b[1m \u001b[0m┃\n",
              "┡━━━━━━━━━━━━━━━━━━━━━━━━━━━━━━━━━╇━━━━━━━━━━━━━━━━━━━━━━━━╇━━━━━━━━━━━━━━━┩\n",
              "│ conv2d (\u001b[38;5;33mConv2D\u001b[0m)                 │ (\u001b[38;5;45mNone\u001b[0m, \u001b[38;5;34m224\u001b[0m, \u001b[38;5;34m224\u001b[0m, \u001b[38;5;34m16\u001b[0m)   │           \u001b[38;5;34m448\u001b[0m │\n",
              "├─────────────────────────────────┼────────────────────────┼───────────────┤\n",
              "│ max_pooling2d (\u001b[38;5;33mMaxPooling2D\u001b[0m)    │ (\u001b[38;5;45mNone\u001b[0m, \u001b[38;5;34m112\u001b[0m, \u001b[38;5;34m112\u001b[0m, \u001b[38;5;34m16\u001b[0m)   │             \u001b[38;5;34m0\u001b[0m │\n",
              "├─────────────────────────────────┼────────────────────────┼───────────────┤\n",
              "│ dropout (\u001b[38;5;33mDropout\u001b[0m)               │ (\u001b[38;5;45mNone\u001b[0m, \u001b[38;5;34m112\u001b[0m, \u001b[38;5;34m112\u001b[0m, \u001b[38;5;34m16\u001b[0m)   │             \u001b[38;5;34m0\u001b[0m │\n",
              "├─────────────────────────────────┼────────────────────────┼───────────────┤\n",
              "│ conv2d_1 (\u001b[38;5;33mConv2D\u001b[0m)               │ (\u001b[38;5;45mNone\u001b[0m, \u001b[38;5;34m110\u001b[0m, \u001b[38;5;34m110\u001b[0m, \u001b[38;5;34m32\u001b[0m)   │         \u001b[38;5;34m4,640\u001b[0m │\n",
              "├─────────────────────────────────┼────────────────────────┼───────────────┤\n",
              "│ max_pooling2d_1 (\u001b[38;5;33mMaxPooling2D\u001b[0m)  │ (\u001b[38;5;45mNone\u001b[0m, \u001b[38;5;34m55\u001b[0m, \u001b[38;5;34m55\u001b[0m, \u001b[38;5;34m32\u001b[0m)     │             \u001b[38;5;34m0\u001b[0m │\n",
              "├─────────────────────────────────┼────────────────────────┼───────────────┤\n",
              "│ flatten (\u001b[38;5;33mFlatten\u001b[0m)               │ (\u001b[38;5;45mNone\u001b[0m, \u001b[38;5;34m96800\u001b[0m)          │             \u001b[38;5;34m0\u001b[0m │\n",
              "├─────────────────────────────────┼────────────────────────┼───────────────┤\n",
              "│ dense (\u001b[38;5;33mDense\u001b[0m)                   │ (\u001b[38;5;45mNone\u001b[0m, \u001b[38;5;34m512\u001b[0m)            │    \u001b[38;5;34m49,562,112\u001b[0m │\n",
              "├─────────────────────────────────┼────────────────────────┼───────────────┤\n",
              "│ dense_1 (\u001b[38;5;33mDense\u001b[0m)                 │ (\u001b[38;5;45mNone\u001b[0m, \u001b[38;5;34m6\u001b[0m)              │         \u001b[38;5;34m3,078\u001b[0m │\n",
              "└─────────────────────────────────┴────────────────────────┴───────────────┘\n"
            ],
            "text/html": [
              "<pre style=\"white-space:pre;overflow-x:auto;line-height:normal;font-family:Menlo,'DejaVu Sans Mono',consolas,'Courier New',monospace\">┏━━━━━━━━━━━━━━━━━━━━━━━━━━━━━━━━━┳━━━━━━━━━━━━━━━━━━━━━━━━┳━━━━━━━━━━━━━━━┓\n",
              "┃<span style=\"font-weight: bold\"> Layer (type)                    </span>┃<span style=\"font-weight: bold\"> Output Shape           </span>┃<span style=\"font-weight: bold\">       Param # </span>┃\n",
              "┡━━━━━━━━━━━━━━━━━━━━━━━━━━━━━━━━━╇━━━━━━━━━━━━━━━━━━━━━━━━╇━━━━━━━━━━━━━━━┩\n",
              "│ conv2d (<span style=\"color: #0087ff; text-decoration-color: #0087ff\">Conv2D</span>)                 │ (<span style=\"color: #00d7ff; text-decoration-color: #00d7ff\">None</span>, <span style=\"color: #00af00; text-decoration-color: #00af00\">224</span>, <span style=\"color: #00af00; text-decoration-color: #00af00\">224</span>, <span style=\"color: #00af00; text-decoration-color: #00af00\">16</span>)   │           <span style=\"color: #00af00; text-decoration-color: #00af00\">448</span> │\n",
              "├─────────────────────────────────┼────────────────────────┼───────────────┤\n",
              "│ max_pooling2d (<span style=\"color: #0087ff; text-decoration-color: #0087ff\">MaxPooling2D</span>)    │ (<span style=\"color: #00d7ff; text-decoration-color: #00d7ff\">None</span>, <span style=\"color: #00af00; text-decoration-color: #00af00\">112</span>, <span style=\"color: #00af00; text-decoration-color: #00af00\">112</span>, <span style=\"color: #00af00; text-decoration-color: #00af00\">16</span>)   │             <span style=\"color: #00af00; text-decoration-color: #00af00\">0</span> │\n",
              "├─────────────────────────────────┼────────────────────────┼───────────────┤\n",
              "│ dropout (<span style=\"color: #0087ff; text-decoration-color: #0087ff\">Dropout</span>)               │ (<span style=\"color: #00d7ff; text-decoration-color: #00d7ff\">None</span>, <span style=\"color: #00af00; text-decoration-color: #00af00\">112</span>, <span style=\"color: #00af00; text-decoration-color: #00af00\">112</span>, <span style=\"color: #00af00; text-decoration-color: #00af00\">16</span>)   │             <span style=\"color: #00af00; text-decoration-color: #00af00\">0</span> │\n",
              "├─────────────────────────────────┼────────────────────────┼───────────────┤\n",
              "│ conv2d_1 (<span style=\"color: #0087ff; text-decoration-color: #0087ff\">Conv2D</span>)               │ (<span style=\"color: #00d7ff; text-decoration-color: #00d7ff\">None</span>, <span style=\"color: #00af00; text-decoration-color: #00af00\">110</span>, <span style=\"color: #00af00; text-decoration-color: #00af00\">110</span>, <span style=\"color: #00af00; text-decoration-color: #00af00\">32</span>)   │         <span style=\"color: #00af00; text-decoration-color: #00af00\">4,640</span> │\n",
              "├─────────────────────────────────┼────────────────────────┼───────────────┤\n",
              "│ max_pooling2d_1 (<span style=\"color: #0087ff; text-decoration-color: #0087ff\">MaxPooling2D</span>)  │ (<span style=\"color: #00d7ff; text-decoration-color: #00d7ff\">None</span>, <span style=\"color: #00af00; text-decoration-color: #00af00\">55</span>, <span style=\"color: #00af00; text-decoration-color: #00af00\">55</span>, <span style=\"color: #00af00; text-decoration-color: #00af00\">32</span>)     │             <span style=\"color: #00af00; text-decoration-color: #00af00\">0</span> │\n",
              "├─────────────────────────────────┼────────────────────────┼───────────────┤\n",
              "│ flatten (<span style=\"color: #0087ff; text-decoration-color: #0087ff\">Flatten</span>)               │ (<span style=\"color: #00d7ff; text-decoration-color: #00d7ff\">None</span>, <span style=\"color: #00af00; text-decoration-color: #00af00\">96800</span>)          │             <span style=\"color: #00af00; text-decoration-color: #00af00\">0</span> │\n",
              "├─────────────────────────────────┼────────────────────────┼───────────────┤\n",
              "│ dense (<span style=\"color: #0087ff; text-decoration-color: #0087ff\">Dense</span>)                   │ (<span style=\"color: #00d7ff; text-decoration-color: #00d7ff\">None</span>, <span style=\"color: #00af00; text-decoration-color: #00af00\">512</span>)            │    <span style=\"color: #00af00; text-decoration-color: #00af00\">49,562,112</span> │\n",
              "├─────────────────────────────────┼────────────────────────┼───────────────┤\n",
              "│ dense_1 (<span style=\"color: #0087ff; text-decoration-color: #0087ff\">Dense</span>)                 │ (<span style=\"color: #00d7ff; text-decoration-color: #00d7ff\">None</span>, <span style=\"color: #00af00; text-decoration-color: #00af00\">6</span>)              │         <span style=\"color: #00af00; text-decoration-color: #00af00\">3,078</span> │\n",
              "└─────────────────────────────────┴────────────────────────┴───────────────┘\n",
              "</pre>\n"
            ]
          },
          "metadata": {}
        },
        {
          "output_type": "display_data",
          "data": {
            "text/plain": [
              "\u001b[1m Total params: \u001b[0m\u001b[38;5;34m148,710,836\u001b[0m (567.29 MB)\n"
            ],
            "text/html": [
              "<pre style=\"white-space:pre;overflow-x:auto;line-height:normal;font-family:Menlo,'DejaVu Sans Mono',consolas,'Courier New',monospace\"><span style=\"font-weight: bold\"> Total params: </span><span style=\"color: #00af00; text-decoration-color: #00af00\">148,710,836</span> (567.29 MB)\n",
              "</pre>\n"
            ]
          },
          "metadata": {}
        },
        {
          "output_type": "display_data",
          "data": {
            "text/plain": [
              "\u001b[1m Trainable params: \u001b[0m\u001b[38;5;34m49,570,278\u001b[0m (189.10 MB)\n"
            ],
            "text/html": [
              "<pre style=\"white-space:pre;overflow-x:auto;line-height:normal;font-family:Menlo,'DejaVu Sans Mono',consolas,'Courier New',monospace\"><span style=\"font-weight: bold\"> Trainable params: </span><span style=\"color: #00af00; text-decoration-color: #00af00\">49,570,278</span> (189.10 MB)\n",
              "</pre>\n"
            ]
          },
          "metadata": {}
        },
        {
          "output_type": "display_data",
          "data": {
            "text/plain": [
              "\u001b[1m Non-trainable params: \u001b[0m\u001b[38;5;34m0\u001b[0m (0.00 B)\n"
            ],
            "text/html": [
              "<pre style=\"white-space:pre;overflow-x:auto;line-height:normal;font-family:Menlo,'DejaVu Sans Mono',consolas,'Courier New',monospace\"><span style=\"font-weight: bold\"> Non-trainable params: </span><span style=\"color: #00af00; text-decoration-color: #00af00\">0</span> (0.00 B)\n",
              "</pre>\n"
            ]
          },
          "metadata": {}
        },
        {
          "output_type": "display_data",
          "data": {
            "text/plain": [
              "\u001b[1m Optimizer params: \u001b[0m\u001b[38;5;34m99,140,558\u001b[0m (378.19 MB)\n"
            ],
            "text/html": [
              "<pre style=\"white-space:pre;overflow-x:auto;line-height:normal;font-family:Menlo,'DejaVu Sans Mono',consolas,'Courier New',monospace\"><span style=\"font-weight: bold\"> Optimizer params: </span><span style=\"color: #00af00; text-decoration-color: #00af00\">99,140,558</span> (378.19 MB)\n",
              "</pre>\n"
            ]
          },
          "metadata": {}
        }
      ],
      "source": [
        "model.summary()"
      ]
    },
    {
      "cell_type": "code",
      "execution_count": 22,
      "metadata": {
        "id": "mNn1wfi0qFzV",
        "colab": {
          "base_uri": "https://localhost:8080/"
        },
        "outputId": "169d74a2-98d5-4d18-d9bc-9f79e13e4cf7"
      },
      "outputs": [
        {
          "output_type": "stream",
          "name": "stdout",
          "text": [
            "Saved artifact at '/tmp/tmpmkpjwdkz'. The following endpoints are available:\n",
            "\n",
            "* Endpoint 'serve'\n",
            "  args_0 (POSITIONAL_ONLY): TensorSpec(shape=(None, 224, 224, 3), dtype=tf.float32, name='input_layer')\n",
            "Output Type:\n",
            "  TensorSpec(shape=(None, 6), dtype=tf.float32, name=None)\n",
            "Captures:\n",
            "  136728453235920: TensorSpec(shape=(), dtype=tf.resource, name=None)\n",
            "  136728453237456: TensorSpec(shape=(), dtype=tf.resource, name=None)\n",
            "  136728453236688: TensorSpec(shape=(), dtype=tf.resource, name=None)\n",
            "  136728453238608: TensorSpec(shape=(), dtype=tf.resource, name=None)\n",
            "  136728453238032: TensorSpec(shape=(), dtype=tf.resource, name=None)\n",
            "  136728453239376: TensorSpec(shape=(), dtype=tf.resource, name=None)\n",
            "  136728453238800: TensorSpec(shape=(), dtype=tf.resource, name=None)\n",
            "  136728453240144: TensorSpec(shape=(), dtype=tf.resource, name=None)\n"
          ]
        }
      ],
      "source": [
        "# Save model\n",
        "model.save('/content/drive/MyDrive/PLP Resources/recyclenet_model.keras')\n",
        "\n",
        "saved_model = tf.keras.models.load_model('/content/drive/MyDrive/PLP Resources/recyclenet_model.keras')\n",
        "\n",
        "# Convert to TFLite\n",
        "converter = tf.lite.TFLiteConverter.from_keras_model(saved_model)\n",
        "tflite_model = converter.convert()\n",
        "\n",
        "# Save TFLite model\n",
        "with open('/content/drive/MyDrive/PLP Resources/recyclenet_model.tflite', 'wb') as f:\n",
        "    f.write(tflite_model)"
      ]
    },
    {
      "cell_type": "code",
      "execution_count": 27,
      "metadata": {
        "id": "7PJeyR1BqOE5",
        "colab": {
          "base_uri": "https://localhost:8080/"
        },
        "outputId": "f71542ee-4472-44c4-ddf9-420ec1aff7ef"
      },
      "outputs": [
        {
          "output_type": "stream",
          "name": "stdout",
          "text": [
            "Predicted Class: plastic\n"
          ]
        }
      ],
      "source": [
        "interpreter = tf.lite.Interpreter(model_path='/content/drive/MyDrive/PLP Resources/recyclenet_model.tflite')\n",
        "interpreter.allocate_tensors()\n",
        "\n",
        "input_details = interpreter.get_input_details()\n",
        "output_details = interpreter.get_output_details()\n",
        "\n",
        "IMG_SIZE = (224, 224)\n",
        "\n",
        "# Load and preprocess one test image\n",
        "import cv2\n",
        "img = cv2.imread('/content/drive/MyDrive/PLP Resources/archive (8)/garbage classification/Garbage classification/plastic/plastic1.jpg')\n",
        "img = cv2.resize(img, IMG_SIZE)\n",
        "input_data = np.expand_dims(img / 255.0, axis=0).astype(np.float32)\n",
        "\n",
        "# Run inference\n",
        "interpreter.set_tensor(input_details[0]['index'], input_data)\n",
        "interpreter.invoke()\n",
        "\n",
        "output = interpreter.get_tensor(output_details[0]['index'])\n",
        "predicted_class_index = np.argmax(output)\n",
        "predicted_class_name = labels[predicted_class_index]\n",
        "print(\"Predicted Class:\", predicted_class_name)"
      ]
    },
    {
      "cell_type": "code",
      "source": [
        "print(output)"
      ],
      "metadata": {
        "colab": {
          "base_uri": "https://localhost:8080/"
        },
        "id": "Qt1wF7YqgxDL",
        "outputId": "88bf92b9-4a27-4669-ff88-3ec98d32ba6c"
      },
      "execution_count": 25,
      "outputs": [
        {
          "output_type": "stream",
          "name": "stdout",
          "text": [
            "[[0.06602293 0.17448701 0.14673327 0.18042342 0.33184227 0.10049099]]\n"
          ]
        }
      ]
    },
    {
      "cell_type": "code",
      "source": [
        "print(\"Predicted Class:\", val_gen.class_indices.keys().__iter__().__next__(), np.argmax(output))"
      ],
      "metadata": {
        "id": "0JQBa_Q0hoFj",
        "outputId": "2a6647e2-2759-465a-e3fa-a8baceade120",
        "colab": {
          "base_uri": "https://localhost:8080/"
        }
      },
      "execution_count": 29,
      "outputs": [
        {
          "output_type": "stream",
          "name": "stdout",
          "text": [
            "Predicted Class: cardboard 4\n"
          ]
        }
      ]
    }
  ],
  "metadata": {
    "colab": {
      "provenance": []
    },
    "kernelspec": {
      "display_name": "Python 3",
      "name": "python3"
    },
    "language_info": {
      "name": "python"
    }
  },
  "nbformat": 4,
  "nbformat_minor": 0
}